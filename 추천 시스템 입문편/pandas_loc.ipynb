{
  "nbformat": 4,
  "nbformat_minor": 0,
  "metadata": {
    "colab": {
      "provenance": [],
      "toc_visible": true,
      "mount_file_id": "13XWMeJ4a9tQD_jnMyQMMpvYEgCK8oDzr",
      "authorship_tag": "ABX9TyO+1f6iGiflyVbfSHyNAJBW",
      "include_colab_link": true
    },
    "kernelspec": {
      "name": "python3",
      "display_name": "Python 3"
    },
    "language_info": {
      "name": "python"
    }
  },
  "cells": [
    {
      "cell_type": "markdown",
      "metadata": {
        "id": "view-in-github",
        "colab_type": "text"
      },
      "source": [
        "<a href=\"https://colab.research.google.com/github/hap6v6/ML_study/blob/main/%EC%B6%94%EC%B2%9C%20%EC%8B%9C%EC%8A%A4%ED%85%9C%20%EC%9E%85%EB%AC%B8%ED%8E%B8/pandas_loc.ipynb\" target=\"_parent\"><img src=\"https://colab.research.google.com/assets/colab-badge.svg\" alt=\"Open In Colab\"/></a>"
      ]
    },
    {
      "cell_type": "markdown",
      "source": [
        "# Pandas 보충강의 - Pandas의 loc 정확하게 사용하기\n",
        "Pandas의 apply 함수 강의 이어서"
      ],
      "metadata": {
        "id": "HkCSdejIXT5v"
      }
    },
    {
      "cell_type": "code",
      "execution_count": 1,
      "metadata": {
        "id": "SBiEmK2tWWBA"
      },
      "outputs": [],
      "source": [
        "import pandas as pd"
      ]
    },
    {
      "cell_type": "code",
      "source": [
        "movies = pd.read_csv('/content/drive/MyDrive/추천 시스템 입문(inflearn)/data/ml-latest-small/movies.csv', index_col='movieId')\n",
        "movies.sample()"
      ],
      "metadata": {
        "colab": {
          "base_uri": "https://localhost:8080/",
          "height": 111
        },
        "id": "EDiXrrMHjPav",
        "outputId": "7f1fc9f6-67c3-44a4-881a-79e382c020dc"
      },
      "execution_count": 3,
      "outputs": [
        {
          "output_type": "execute_result",
          "data": {
            "text/plain": [
              "                                                     title              genres\n",
              "movieId                                                                       \n",
              "43708    Block Party (a.k.a. Dave Chappelle's Block Par...  Comedy|Documentary"
            ],
            "text/html": [
              "\n",
              "  <div id=\"df-fa5798c9-8bc8-49ef-acf5-5a7462ea229e\">\n",
              "    <div class=\"colab-df-container\">\n",
              "      <div>\n",
              "<style scoped>\n",
              "    .dataframe tbody tr th:only-of-type {\n",
              "        vertical-align: middle;\n",
              "    }\n",
              "\n",
              "    .dataframe tbody tr th {\n",
              "        vertical-align: top;\n",
              "    }\n",
              "\n",
              "    .dataframe thead th {\n",
              "        text-align: right;\n",
              "    }\n",
              "</style>\n",
              "<table border=\"1\" class=\"dataframe\">\n",
              "  <thead>\n",
              "    <tr style=\"text-align: right;\">\n",
              "      <th></th>\n",
              "      <th>title</th>\n",
              "      <th>genres</th>\n",
              "    </tr>\n",
              "    <tr>\n",
              "      <th>movieId</th>\n",
              "      <th></th>\n",
              "      <th></th>\n",
              "    </tr>\n",
              "  </thead>\n",
              "  <tbody>\n",
              "    <tr>\n",
              "      <th>43708</th>\n",
              "      <td>Block Party (a.k.a. Dave Chappelle's Block Par...</td>\n",
              "      <td>Comedy|Documentary</td>\n",
              "    </tr>\n",
              "  </tbody>\n",
              "</table>\n",
              "</div>\n",
              "      <button class=\"colab-df-convert\" onclick=\"convertToInteractive('df-fa5798c9-8bc8-49ef-acf5-5a7462ea229e')\"\n",
              "              title=\"Convert this dataframe to an interactive table.\"\n",
              "              style=\"display:none;\">\n",
              "        \n",
              "  <svg xmlns=\"http://www.w3.org/2000/svg\" height=\"24px\"viewBox=\"0 0 24 24\"\n",
              "       width=\"24px\">\n",
              "    <path d=\"M0 0h24v24H0V0z\" fill=\"none\"/>\n",
              "    <path d=\"M18.56 5.44l.94 2.06.94-2.06 2.06-.94-2.06-.94-.94-2.06-.94 2.06-2.06.94zm-11 1L8.5 8.5l.94-2.06 2.06-.94-2.06-.94L8.5 2.5l-.94 2.06-2.06.94zm10 10l.94 2.06.94-2.06 2.06-.94-2.06-.94-.94-2.06-.94 2.06-2.06.94z\"/><path d=\"M17.41 7.96l-1.37-1.37c-.4-.4-.92-.59-1.43-.59-.52 0-1.04.2-1.43.59L10.3 9.45l-7.72 7.72c-.78.78-.78 2.05 0 2.83L4 21.41c.39.39.9.59 1.41.59.51 0 1.02-.2 1.41-.59l7.78-7.78 2.81-2.81c.8-.78.8-2.07 0-2.86zM5.41 20L4 18.59l7.72-7.72 1.47 1.35L5.41 20z\"/>\n",
              "  </svg>\n",
              "      </button>\n",
              "      \n",
              "  <style>\n",
              "    .colab-df-container {\n",
              "      display:flex;\n",
              "      flex-wrap:wrap;\n",
              "      gap: 12px;\n",
              "    }\n",
              "\n",
              "    .colab-df-convert {\n",
              "      background-color: #E8F0FE;\n",
              "      border: none;\n",
              "      border-radius: 50%;\n",
              "      cursor: pointer;\n",
              "      display: none;\n",
              "      fill: #1967D2;\n",
              "      height: 32px;\n",
              "      padding: 0 0 0 0;\n",
              "      width: 32px;\n",
              "    }\n",
              "\n",
              "    .colab-df-convert:hover {\n",
              "      background-color: #E2EBFA;\n",
              "      box-shadow: 0px 1px 2px rgba(60, 64, 67, 0.3), 0px 1px 3px 1px rgba(60, 64, 67, 0.15);\n",
              "      fill: #174EA6;\n",
              "    }\n",
              "\n",
              "    [theme=dark] .colab-df-convert {\n",
              "      background-color: #3B4455;\n",
              "      fill: #D2E3FC;\n",
              "    }\n",
              "\n",
              "    [theme=dark] .colab-df-convert:hover {\n",
              "      background-color: #434B5C;\n",
              "      box-shadow: 0px 1px 3px 1px rgba(0, 0, 0, 0.15);\n",
              "      filter: drop-shadow(0px 1px 2px rgba(0, 0, 0, 0.3));\n",
              "      fill: #FFFFFF;\n",
              "    }\n",
              "  </style>\n",
              "\n",
              "      <script>\n",
              "        const buttonEl =\n",
              "          document.querySelector('#df-fa5798c9-8bc8-49ef-acf5-5a7462ea229e button.colab-df-convert');\n",
              "        buttonEl.style.display =\n",
              "          google.colab.kernel.accessAllowed ? 'block' : 'none';\n",
              "\n",
              "        async function convertToInteractive(key) {\n",
              "          const element = document.querySelector('#df-fa5798c9-8bc8-49ef-acf5-5a7462ea229e');\n",
              "          const dataTable =\n",
              "            await google.colab.kernel.invokeFunction('convertToInteractive',\n",
              "                                                     [key], {});\n",
              "          if (!dataTable) return;\n",
              "\n",
              "          const docLinkHtml = 'Like what you see? Visit the ' +\n",
              "            '<a target=\"_blank\" href=https://colab.research.google.com/notebooks/data_table.ipynb>data table notebook</a>'\n",
              "            + ' to learn more about interactive tables.';\n",
              "          element.innerHTML = '';\n",
              "          dataTable['output_type'] = 'display_data';\n",
              "          await google.colab.output.renderOutput(dataTable, element);\n",
              "          const docLink = document.createElement('div');\n",
              "          docLink.innerHTML = docLinkHtml;\n",
              "          element.appendChild(docLink);\n",
              "        }\n",
              "      </script>\n",
              "    </div>\n",
              "  </div>\n",
              "  "
            ]
          },
          "metadata": {},
          "execution_count": 3
        }
      ]
    },
    {
      "cell_type": "code",
      "source": [
        "# 정규표현식을 사용하지 않고, 개봉연도 추출하기\n",
        "movies['year'] = movies['title'].apply(lambda x: x[-5:-1])\n",
        "movies['year'].unique()"
      ],
      "metadata": {
        "colab": {
          "base_uri": "https://localhost:8080/"
        },
        "id": "Gxw182OLjfZp",
        "outputId": "a2dd71e9-8066-44ef-e404-2f21040f1afd"
      },
      "execution_count": 4,
      "outputs": [
        {
          "output_type": "execute_result",
          "data": {
            "text/plain": [
              "array(['1995', '1994', '1996', '1976', '1992', '1967', '1993', '1964',\n",
              "       '1977', '1965', '1982', '1990', '1991', '1989', '1937', '1940',\n",
              "       '1969', '1981', '1973', '1970', '1955', '1959', '1968', '1988',\n",
              "       '1997', '1972', '1943', '1952', '1951', '1957', '1961', '1958',\n",
              "       '1954', '1934', '1944', '1960', '1963', '1942', '1941', '1953',\n",
              "       '1939', '1950', '1946', '1945', '1938', '1947', '1935', '1936',\n",
              "       '1956', '1949', '1932', '1975', '1974', '1971', '1979', '1987',\n",
              "       '1986', '1980', '1978', '1985', '1966', '1962', '1983', '1984',\n",
              "       '1948', '1933', '1931', '1922', '1998', '1929', '1930', '1927',\n",
              "       '1928', '1999', '2000', '1926', '1919', '1921', '1925', '1923',\n",
              "       '2001', '2002', '2003', '1920', '1915', '1924', '2004', '1916',\n",
              "       '1917', '999)', '2005', '2006', '1902', 'lon ', '1903', '2007',\n",
              "       '2008', '008)', '007)', '2009', '2010', '2011', '2012', '011)',\n",
              "       '998)', '995)', '2013', '012)', '973)', '2014', '2015', '014)',\n",
              "       '2016', '2017', '2018', '1908', 'r On', ' Roa', 'atso', 'imal',\n",
              "       'erso', 'ligh', 'he O', 'osmo', ' Bab', 'ron ', 'irro'],\n",
              "      dtype=object)"
            ]
          },
          "metadata": {},
          "execution_count": 4
        }
      ]
    },
    {
      "cell_type": "markdown",
      "source": [
        "## [1] ex.'012)' - 개봉연도 맨 앞자리가 잘림"
      ],
      "metadata": {
        "id": "TQWkt_MUm6a1"
      }
    },
    {
      "cell_type": "code",
      "source": [
        "# ex. 012) - 개봉연도 맨 앞자리가 잘림\n",
        "movies[movies['year'] == '012)']"
      ],
      "metadata": {
        "colab": {
          "base_uri": "https://localhost:8080/",
          "height": 111
        },
        "id": "fPci64CwkFSA",
        "outputId": "72c6a161-591e-45c7-d61b-ab901be8c8ec"
      },
      "execution_count": 5,
      "outputs": [
        {
          "output_type": "execute_result",
          "data": {
            "text/plain": [
              "                                title                    genres  year\n",
              "movieId                                                              \n",
              "102084   Justice League: Doom (2012)   Action|Animation|Fantasy  012)"
            ],
            "text/html": [
              "\n",
              "  <div id=\"df-554cb8e4-3a48-4ec4-9727-05d08e3d0a4a\">\n",
              "    <div class=\"colab-df-container\">\n",
              "      <div>\n",
              "<style scoped>\n",
              "    .dataframe tbody tr th:only-of-type {\n",
              "        vertical-align: middle;\n",
              "    }\n",
              "\n",
              "    .dataframe tbody tr th {\n",
              "        vertical-align: top;\n",
              "    }\n",
              "\n",
              "    .dataframe thead th {\n",
              "        text-align: right;\n",
              "    }\n",
              "</style>\n",
              "<table border=\"1\" class=\"dataframe\">\n",
              "  <thead>\n",
              "    <tr style=\"text-align: right;\">\n",
              "      <th></th>\n",
              "      <th>title</th>\n",
              "      <th>genres</th>\n",
              "      <th>year</th>\n",
              "    </tr>\n",
              "    <tr>\n",
              "      <th>movieId</th>\n",
              "      <th></th>\n",
              "      <th></th>\n",
              "      <th></th>\n",
              "    </tr>\n",
              "  </thead>\n",
              "  <tbody>\n",
              "    <tr>\n",
              "      <th>102084</th>\n",
              "      <td>Justice League: Doom (2012)</td>\n",
              "      <td>Action|Animation|Fantasy</td>\n",
              "      <td>012)</td>\n",
              "    </tr>\n",
              "  </tbody>\n",
              "</table>\n",
              "</div>\n",
              "      <button class=\"colab-df-convert\" onclick=\"convertToInteractive('df-554cb8e4-3a48-4ec4-9727-05d08e3d0a4a')\"\n",
              "              title=\"Convert this dataframe to an interactive table.\"\n",
              "              style=\"display:none;\">\n",
              "        \n",
              "  <svg xmlns=\"http://www.w3.org/2000/svg\" height=\"24px\"viewBox=\"0 0 24 24\"\n",
              "       width=\"24px\">\n",
              "    <path d=\"M0 0h24v24H0V0z\" fill=\"none\"/>\n",
              "    <path d=\"M18.56 5.44l.94 2.06.94-2.06 2.06-.94-2.06-.94-.94-2.06-.94 2.06-2.06.94zm-11 1L8.5 8.5l.94-2.06 2.06-.94-2.06-.94L8.5 2.5l-.94 2.06-2.06.94zm10 10l.94 2.06.94-2.06 2.06-.94-2.06-.94-.94-2.06-.94 2.06-2.06.94z\"/><path d=\"M17.41 7.96l-1.37-1.37c-.4-.4-.92-.59-1.43-.59-.52 0-1.04.2-1.43.59L10.3 9.45l-7.72 7.72c-.78.78-.78 2.05 0 2.83L4 21.41c.39.39.9.59 1.41.59.51 0 1.02-.2 1.41-.59l7.78-7.78 2.81-2.81c.8-.78.8-2.07 0-2.86zM5.41 20L4 18.59l7.72-7.72 1.47 1.35L5.41 20z\"/>\n",
              "  </svg>\n",
              "      </button>\n",
              "      \n",
              "  <style>\n",
              "    .colab-df-container {\n",
              "      display:flex;\n",
              "      flex-wrap:wrap;\n",
              "      gap: 12px;\n",
              "    }\n",
              "\n",
              "    .colab-df-convert {\n",
              "      background-color: #E8F0FE;\n",
              "      border: none;\n",
              "      border-radius: 50%;\n",
              "      cursor: pointer;\n",
              "      display: none;\n",
              "      fill: #1967D2;\n",
              "      height: 32px;\n",
              "      padding: 0 0 0 0;\n",
              "      width: 32px;\n",
              "    }\n",
              "\n",
              "    .colab-df-convert:hover {\n",
              "      background-color: #E2EBFA;\n",
              "      box-shadow: 0px 1px 2px rgba(60, 64, 67, 0.3), 0px 1px 3px 1px rgba(60, 64, 67, 0.15);\n",
              "      fill: #174EA6;\n",
              "    }\n",
              "\n",
              "    [theme=dark] .colab-df-convert {\n",
              "      background-color: #3B4455;\n",
              "      fill: #D2E3FC;\n",
              "    }\n",
              "\n",
              "    [theme=dark] .colab-df-convert:hover {\n",
              "      background-color: #434B5C;\n",
              "      box-shadow: 0px 1px 3px 1px rgba(0, 0, 0, 0.15);\n",
              "      filter: drop-shadow(0px 1px 2px rgba(0, 0, 0, 0.3));\n",
              "      fill: #FFFFFF;\n",
              "    }\n",
              "  </style>\n",
              "\n",
              "      <script>\n",
              "        const buttonEl =\n",
              "          document.querySelector('#df-554cb8e4-3a48-4ec4-9727-05d08e3d0a4a button.colab-df-convert');\n",
              "        buttonEl.style.display =\n",
              "          google.colab.kernel.accessAllowed ? 'block' : 'none';\n",
              "\n",
              "        async function convertToInteractive(key) {\n",
              "          const element = document.querySelector('#df-554cb8e4-3a48-4ec4-9727-05d08e3d0a4a');\n",
              "          const dataTable =\n",
              "            await google.colab.kernel.invokeFunction('convertToInteractive',\n",
              "                                                     [key], {});\n",
              "          if (!dataTable) return;\n",
              "\n",
              "          const docLinkHtml = 'Like what you see? Visit the ' +\n",
              "            '<a target=\"_blank\" href=https://colab.research.google.com/notebooks/data_table.ipynb>data table notebook</a>'\n",
              "            + ' to learn more about interactive tables.';\n",
              "          element.innerHTML = '';\n",
              "          dataTable['output_type'] = 'display_data';\n",
              "          await google.colab.output.renderOutput(dataTable, element);\n",
              "          const docLink = document.createElement('div');\n",
              "          docLink.innerHTML = docLinkHtml;\n",
              "          element.appendChild(docLink);\n",
              "        }\n",
              "      </script>\n",
              "    </div>\n",
              "  </div>\n",
              "  "
            ]
          },
          "metadata": {},
          "execution_count": 5
        }
      ]
    },
    {
      "cell_type": "code",
      "source": [
        "# Pandas .loc[] == location: 특정 값 가져오기\n",
        "# movies.loc[index, column]\n",
        "movies.loc[102084, 'title']\n",
        "# 개봉연도 뒤에 공백이 있어서 잘못된 값이 나왔던 것"
      ],
      "metadata": {
        "colab": {
          "base_uri": "https://localhost:8080/",
          "height": 35
        },
        "id": "QbvdWuuTkTzZ",
        "outputId": "685020b4-3178-4ffa-d705-3d3dd901cc7e"
      },
      "execution_count": 7,
      "outputs": [
        {
          "output_type": "execute_result",
          "data": {
            "text/plain": [
              "'Justice League: Doom (2012) '"
            ],
            "application/vnd.google.colaboratory.intrinsic+json": {
              "type": "string"
            }
          },
          "metadata": {},
          "execution_count": 7
        }
      ]
    },
    {
      "cell_type": "code",
      "source": [
        "# strip(): 개봉연도의 앞 뒤 공백 없애주기\n",
        "movies.loc[102084, 'title'].strip()"
      ],
      "metadata": {
        "colab": {
          "base_uri": "https://localhost:8080/",
          "height": 35
        },
        "id": "XiBwS71RmKBy",
        "outputId": "5acf49d2-9996-472c-99a6-478444d16b85"
      },
      "execution_count": 8,
      "outputs": [
        {
          "output_type": "execute_result",
          "data": {
            "text/plain": [
              "'Justice League: Doom (2012)'"
            ],
            "application/vnd.google.colaboratory.intrinsic+json": {
              "type": "string"
            }
          },
          "metadata": {},
          "execution_count": 8
        }
      ]
    },
    {
      "cell_type": "code",
      "source": [
        "# 전체 데이터에 앞 뒤 공백 없애기 적용\n",
        "movies['title'] = movies['title'].apply(lambda x: x.strip())"
      ],
      "metadata": {
        "id": "vrI5z8slmiRq"
      },
      "execution_count": 9,
      "outputs": []
    },
    {
      "cell_type": "code",
      "source": [
        "# 개봉연도 추출 과정 반복\n",
        "movies['year'] = movies['title'].apply(lambda x: x[-5:-1])\n",
        "movies['year'].unique()\n",
        "# 1번 패턴은 정제 완료"
      ],
      "metadata": {
        "colab": {
          "base_uri": "https://localhost:8080/"
        },
        "id": "3Vi2byyZmt_3",
        "outputId": "8d3d2903-4646-4038-8bca-3e182b18c5ef"
      },
      "execution_count": 10,
      "outputs": [
        {
          "output_type": "execute_result",
          "data": {
            "text/plain": [
              "array(['1995', '1994', '1996', '1976', '1992', '1967', '1993', '1964',\n",
              "       '1977', '1965', '1982', '1990', '1991', '1989', '1937', '1940',\n",
              "       '1969', '1981', '1973', '1970', '1955', '1959', '1968', '1988',\n",
              "       '1997', '1972', '1943', '1952', '1951', '1957', '1961', '1958',\n",
              "       '1954', '1934', '1944', '1960', '1963', '1942', '1941', '1953',\n",
              "       '1939', '1950', '1946', '1945', '1938', '1947', '1935', '1936',\n",
              "       '1956', '1949', '1932', '1975', '1974', '1971', '1979', '1987',\n",
              "       '1986', '1980', '1978', '1985', '1966', '1962', '1983', '1984',\n",
              "       '1948', '1933', '1931', '1922', '1998', '1929', '1930', '1927',\n",
              "       '1928', '1999', '2000', '1926', '1919', '1921', '1925', '1923',\n",
              "       '2001', '2002', '2003', '1920', '1915', '1924', '2004', '1916',\n",
              "       '1917', '2005', '2006', '1902', 'lon ', '1903', '2007', '2008',\n",
              "       '2009', '2010', '2011', '2012', '2013', '2014', '2015', '2016',\n",
              "       '2017', '2018', '1908', 'r On', ' Roa', 'atso', 'imal', 'erso',\n",
              "       'ligh', 'he O', 'osmo', ' Bab', 'ron ', 'irro'], dtype=object)"
            ]
          },
          "metadata": {},
          "execution_count": 10
        }
      ]
    },
    {
      "cell_type": "markdown",
      "source": [
        "## [2] 이상한 값 - 임의 개봉연도 지정"
      ],
      "metadata": {
        "id": "4C0Wya1RnH5I"
      }
    },
    {
      "cell_type": "code",
      "source": [
        "# 이상한 값 모으기\n",
        "errors = ['lon ', 'r On', ' Roa', 'atso', 'imal', 'erso', 'ligh', 'he O', 'osmo', ' Bab', 'ron ', 'irro']"
      ],
      "metadata": {
        "id": "mRfiwIaFm0s0"
      },
      "execution_count": 11,
      "outputs": []
    },
    {
      "cell_type": "code",
      "source": [
        "# 이상한 값 발견된 데이터들만 불러오기\n",
        "# 필터링 정보: movies['year'].isin(errors)-> 결과 T/F\n",
        "# True인 데이터만 보여준다\n",
        "movies[movies['year'].isin(errors)]"
      ],
      "metadata": {
        "colab": {
          "base_uri": "https://localhost:8080/",
          "height": 452
        },
        "id": "CtW6RNbBnc8N",
        "outputId": "d713bb70-d469-4f1d-fdca-dd72f74071ce"
      },
      "execution_count": 14,
      "outputs": [
        {
          "output_type": "execute_result",
          "data": {
            "text/plain": [
              "                                                     title  \\\n",
              "movieId                                                      \n",
              "40697                                            Babylon 5   \n",
              "140956                                    Ready Player One   \n",
              "143410                                          Hyena Road   \n",
              "147250   The Adventures of Sherlock Holmes and Doctor W...   \n",
              "149334                                   Nocturnal Animals   \n",
              "156605                                            Paterson   \n",
              "162414                                           Moonlight   \n",
              "167570                                              The OA   \n",
              "171495                                              Cosmos   \n",
              "171631                             Maria Bamford: Old Baby   \n",
              "171891                                   Generation Iron 2   \n",
              "176601                                        Black Mirror   \n",
              "\n",
              "                         genres  year  \n",
              "movieId                                \n",
              "40697                    Sci-Fi  lon   \n",
              "140956   Action|Sci-Fi|Thriller  r On  \n",
              "143410       (no genres listed)   Roa  \n",
              "147250       (no genres listed)  atso  \n",
              "149334           Drama|Thriller  imal  \n",
              "156605       (no genres listed)  erso  \n",
              "162414                    Drama  ligh  \n",
              "167570       (no genres listed)  he O  \n",
              "171495       (no genres listed)  osmo  \n",
              "171631       (no genres listed)   Bab  \n",
              "171891       (no genres listed)  ron   \n",
              "176601       (no genres listed)  irro  "
            ],
            "text/html": [
              "\n",
              "  <div id=\"df-bf519f1d-d586-4062-9ce4-7d0ad36b24e2\">\n",
              "    <div class=\"colab-df-container\">\n",
              "      <div>\n",
              "<style scoped>\n",
              "    .dataframe tbody tr th:only-of-type {\n",
              "        vertical-align: middle;\n",
              "    }\n",
              "\n",
              "    .dataframe tbody tr th {\n",
              "        vertical-align: top;\n",
              "    }\n",
              "\n",
              "    .dataframe thead th {\n",
              "        text-align: right;\n",
              "    }\n",
              "</style>\n",
              "<table border=\"1\" class=\"dataframe\">\n",
              "  <thead>\n",
              "    <tr style=\"text-align: right;\">\n",
              "      <th></th>\n",
              "      <th>title</th>\n",
              "      <th>genres</th>\n",
              "      <th>year</th>\n",
              "    </tr>\n",
              "    <tr>\n",
              "      <th>movieId</th>\n",
              "      <th></th>\n",
              "      <th></th>\n",
              "      <th></th>\n",
              "    </tr>\n",
              "  </thead>\n",
              "  <tbody>\n",
              "    <tr>\n",
              "      <th>40697</th>\n",
              "      <td>Babylon 5</td>\n",
              "      <td>Sci-Fi</td>\n",
              "      <td>lon</td>\n",
              "    </tr>\n",
              "    <tr>\n",
              "      <th>140956</th>\n",
              "      <td>Ready Player One</td>\n",
              "      <td>Action|Sci-Fi|Thriller</td>\n",
              "      <td>r On</td>\n",
              "    </tr>\n",
              "    <tr>\n",
              "      <th>143410</th>\n",
              "      <td>Hyena Road</td>\n",
              "      <td>(no genres listed)</td>\n",
              "      <td>Roa</td>\n",
              "    </tr>\n",
              "    <tr>\n",
              "      <th>147250</th>\n",
              "      <td>The Adventures of Sherlock Holmes and Doctor W...</td>\n",
              "      <td>(no genres listed)</td>\n",
              "      <td>atso</td>\n",
              "    </tr>\n",
              "    <tr>\n",
              "      <th>149334</th>\n",
              "      <td>Nocturnal Animals</td>\n",
              "      <td>Drama|Thriller</td>\n",
              "      <td>imal</td>\n",
              "    </tr>\n",
              "    <tr>\n",
              "      <th>156605</th>\n",
              "      <td>Paterson</td>\n",
              "      <td>(no genres listed)</td>\n",
              "      <td>erso</td>\n",
              "    </tr>\n",
              "    <tr>\n",
              "      <th>162414</th>\n",
              "      <td>Moonlight</td>\n",
              "      <td>Drama</td>\n",
              "      <td>ligh</td>\n",
              "    </tr>\n",
              "    <tr>\n",
              "      <th>167570</th>\n",
              "      <td>The OA</td>\n",
              "      <td>(no genres listed)</td>\n",
              "      <td>he O</td>\n",
              "    </tr>\n",
              "    <tr>\n",
              "      <th>171495</th>\n",
              "      <td>Cosmos</td>\n",
              "      <td>(no genres listed)</td>\n",
              "      <td>osmo</td>\n",
              "    </tr>\n",
              "    <tr>\n",
              "      <th>171631</th>\n",
              "      <td>Maria Bamford: Old Baby</td>\n",
              "      <td>(no genres listed)</td>\n",
              "      <td>Bab</td>\n",
              "    </tr>\n",
              "    <tr>\n",
              "      <th>171891</th>\n",
              "      <td>Generation Iron 2</td>\n",
              "      <td>(no genres listed)</td>\n",
              "      <td>ron</td>\n",
              "    </tr>\n",
              "    <tr>\n",
              "      <th>176601</th>\n",
              "      <td>Black Mirror</td>\n",
              "      <td>(no genres listed)</td>\n",
              "      <td>irro</td>\n",
              "    </tr>\n",
              "  </tbody>\n",
              "</table>\n",
              "</div>\n",
              "      <button class=\"colab-df-convert\" onclick=\"convertToInteractive('df-bf519f1d-d586-4062-9ce4-7d0ad36b24e2')\"\n",
              "              title=\"Convert this dataframe to an interactive table.\"\n",
              "              style=\"display:none;\">\n",
              "        \n",
              "  <svg xmlns=\"http://www.w3.org/2000/svg\" height=\"24px\"viewBox=\"0 0 24 24\"\n",
              "       width=\"24px\">\n",
              "    <path d=\"M0 0h24v24H0V0z\" fill=\"none\"/>\n",
              "    <path d=\"M18.56 5.44l.94 2.06.94-2.06 2.06-.94-2.06-.94-.94-2.06-.94 2.06-2.06.94zm-11 1L8.5 8.5l.94-2.06 2.06-.94-2.06-.94L8.5 2.5l-.94 2.06-2.06.94zm10 10l.94 2.06.94-2.06 2.06-.94-2.06-.94-.94-2.06-.94 2.06-2.06.94z\"/><path d=\"M17.41 7.96l-1.37-1.37c-.4-.4-.92-.59-1.43-.59-.52 0-1.04.2-1.43.59L10.3 9.45l-7.72 7.72c-.78.78-.78 2.05 0 2.83L4 21.41c.39.39.9.59 1.41.59.51 0 1.02-.2 1.41-.59l7.78-7.78 2.81-2.81c.8-.78.8-2.07 0-2.86zM5.41 20L4 18.59l7.72-7.72 1.47 1.35L5.41 20z\"/>\n",
              "  </svg>\n",
              "      </button>\n",
              "      \n",
              "  <style>\n",
              "    .colab-df-container {\n",
              "      display:flex;\n",
              "      flex-wrap:wrap;\n",
              "      gap: 12px;\n",
              "    }\n",
              "\n",
              "    .colab-df-convert {\n",
              "      background-color: #E8F0FE;\n",
              "      border: none;\n",
              "      border-radius: 50%;\n",
              "      cursor: pointer;\n",
              "      display: none;\n",
              "      fill: #1967D2;\n",
              "      height: 32px;\n",
              "      padding: 0 0 0 0;\n",
              "      width: 32px;\n",
              "    }\n",
              "\n",
              "    .colab-df-convert:hover {\n",
              "      background-color: #E2EBFA;\n",
              "      box-shadow: 0px 1px 2px rgba(60, 64, 67, 0.3), 0px 1px 3px 1px rgba(60, 64, 67, 0.15);\n",
              "      fill: #174EA6;\n",
              "    }\n",
              "\n",
              "    [theme=dark] .colab-df-convert {\n",
              "      background-color: #3B4455;\n",
              "      fill: #D2E3FC;\n",
              "    }\n",
              "\n",
              "    [theme=dark] .colab-df-convert:hover {\n",
              "      background-color: #434B5C;\n",
              "      box-shadow: 0px 1px 3px 1px rgba(0, 0, 0, 0.15);\n",
              "      filter: drop-shadow(0px 1px 2px rgba(0, 0, 0, 0.3));\n",
              "      fill: #FFFFFF;\n",
              "    }\n",
              "  </style>\n",
              "\n",
              "      <script>\n",
              "        const buttonEl =\n",
              "          document.querySelector('#df-bf519f1d-d586-4062-9ce4-7d0ad36b24e2 button.colab-df-convert');\n",
              "        buttonEl.style.display =\n",
              "          google.colab.kernel.accessAllowed ? 'block' : 'none';\n",
              "\n",
              "        async function convertToInteractive(key) {\n",
              "          const element = document.querySelector('#df-bf519f1d-d586-4062-9ce4-7d0ad36b24e2');\n",
              "          const dataTable =\n",
              "            await google.colab.kernel.invokeFunction('convertToInteractive',\n",
              "                                                     [key], {});\n",
              "          if (!dataTable) return;\n",
              "\n",
              "          const docLinkHtml = 'Like what you see? Visit the ' +\n",
              "            '<a target=\"_blank\" href=https://colab.research.google.com/notebooks/data_table.ipynb>data table notebook</a>'\n",
              "            + ' to learn more about interactive tables.';\n",
              "          element.innerHTML = '';\n",
              "          dataTable['output_type'] = 'display_data';\n",
              "          await google.colab.output.renderOutput(dataTable, element);\n",
              "          const docLink = document.createElement('div');\n",
              "          docLink.innerHTML = docLinkHtml;\n",
              "          element.appendChild(docLink);\n",
              "        }\n",
              "      </script>\n",
              "    </div>\n",
              "  </div>\n",
              "  "
            ]
          },
          "metadata": {},
          "execution_count": 14
        }
      ]
    },
    {
      "cell_type": "code",
      "source": [
        "# 개봉연도 2050으로 임의 설정\n",
        "# movies.loc[필터링 정보, column]\n",
        "movies.loc[movies['year'].isin(errors), 'year'] = '2050'"
      ],
      "metadata": {
        "id": "gvSkLtIxnigc"
      },
      "execution_count": 15,
      "outputs": []
    },
    {
      "cell_type": "code",
      "source": [
        "movies['year'].unique()"
      ],
      "metadata": {
        "colab": {
          "base_uri": "https://localhost:8080/"
        },
        "id": "WXRN2DU9oOoO",
        "outputId": "496f5651-f37c-49cd-87b7-13764012fb94"
      },
      "execution_count": 16,
      "outputs": [
        {
          "output_type": "execute_result",
          "data": {
            "text/plain": [
              "array(['1995', '1994', '1996', '1976', '1992', '1967', '1993', '1964',\n",
              "       '1977', '1965', '1982', '1990', '1991', '1989', '1937', '1940',\n",
              "       '1969', '1981', '1973', '1970', '1955', '1959', '1968', '1988',\n",
              "       '1997', '1972', '1943', '1952', '1951', '1957', '1961', '1958',\n",
              "       '1954', '1934', '1944', '1960', '1963', '1942', '1941', '1953',\n",
              "       '1939', '1950', '1946', '1945', '1938', '1947', '1935', '1936',\n",
              "       '1956', '1949', '1932', '1975', '1974', '1971', '1979', '1987',\n",
              "       '1986', '1980', '1978', '1985', '1966', '1962', '1983', '1984',\n",
              "       '1948', '1933', '1931', '1922', '1998', '1929', '1930', '1927',\n",
              "       '1928', '1999', '2000', '1926', '1919', '1921', '1925', '1923',\n",
              "       '2001', '2002', '2003', '1920', '1915', '1924', '2004', '1916',\n",
              "       '1917', '2005', '2006', '1902', '2050', '1903', '2007', '2008',\n",
              "       '2009', '2010', '2011', '2012', '2013', '2014', '2015', '2016',\n",
              "       '2017', '2018', '1908'], dtype=object)"
            ]
          },
          "metadata": {},
          "execution_count": 16
        }
      ]
    }
  ]
}