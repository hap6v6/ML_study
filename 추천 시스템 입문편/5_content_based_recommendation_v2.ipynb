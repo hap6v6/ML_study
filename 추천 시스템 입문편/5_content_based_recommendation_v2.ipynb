{
  "nbformat": 4,
  "nbformat_minor": 0,
  "metadata": {
    "colab": {
      "provenance": [],
      "toc_visible": true,
      "mount_file_id": "1ByKXW7Yti5HIkvqt14ztWDf_1OwGn-BT",
      "authorship_tag": "ABX9TyONlXJ3df2S9rmjboS9M0N4",
      "include_colab_link": true
    },
    "kernelspec": {
      "name": "python3",
      "display_name": "Python 3"
    },
    "language_info": {
      "name": "python"
    },
    "widgets": {
      "application/vnd.jupyter.widget-state+json": {
        "c0f032e5a0b2498fb5a615391f2fc2bd": {
          "model_module": "@jupyter-widgets/controls",
          "model_name": "HBoxModel",
          "model_module_version": "1.5.0",
          "state": {
            "_dom_classes": [],
            "_model_module": "@jupyter-widgets/controls",
            "_model_module_version": "1.5.0",
            "_model_name": "HBoxModel",
            "_view_count": null,
            "_view_module": "@jupyter-widgets/controls",
            "_view_module_version": "1.5.0",
            "_view_name": "HBoxView",
            "box_style": "",
            "children": [
              "IPY_MODEL_db0fd82154c649a7b1432c6179016eb6",
              "IPY_MODEL_68a41b9da1964b24acb1d69e82b25de7",
              "IPY_MODEL_bec05163a4834c10bbc689dafdcc8bc0"
            ],
            "layout": "IPY_MODEL_bc5df0a033314f899a979be6f73dcf75"
          }
        },
        "db0fd82154c649a7b1432c6179016eb6": {
          "model_module": "@jupyter-widgets/controls",
          "model_name": "HTMLModel",
          "model_module_version": "1.5.0",
          "state": {
            "_dom_classes": [],
            "_model_module": "@jupyter-widgets/controls",
            "_model_module_version": "1.5.0",
            "_model_name": "HTMLModel",
            "_view_count": null,
            "_view_module": "@jupyter-widgets/controls",
            "_view_module_version": "1.5.0",
            "_view_name": "HTMLView",
            "description": "",
            "description_tooltip": null,
            "layout": "IPY_MODEL_116d423d80bf4d88b6f3cb50589e3512",
            "placeholder": "​",
            "style": "IPY_MODEL_ea12fbc57fb345e89dbfc39d93d15faa",
            "value": ""
          }
        },
        "68a41b9da1964b24acb1d69e82b25de7": {
          "model_module": "@jupyter-widgets/controls",
          "model_name": "FloatProgressModel",
          "model_module_version": "1.5.0",
          "state": {
            "_dom_classes": [],
            "_model_module": "@jupyter-widgets/controls",
            "_model_module_version": "1.5.0",
            "_model_name": "FloatProgressModel",
            "_view_count": null,
            "_view_module": "@jupyter-widgets/controls",
            "_view_module_version": "1.5.0",
            "_view_name": "ProgressView",
            "bar_style": "success",
            "description": "",
            "description_tooltip": null,
            "layout": "IPY_MODEL_c9ca08ddd4e346b1a5a9fcf28ff4877c",
            "max": 1,
            "min": 0,
            "orientation": "horizontal",
            "style": "IPY_MODEL_f47f6451bac0405aa99e5f62b9569e67",
            "value": 1
          }
        },
        "bec05163a4834c10bbc689dafdcc8bc0": {
          "model_module": "@jupyter-widgets/controls",
          "model_name": "HTMLModel",
          "model_module_version": "1.5.0",
          "state": {
            "_dom_classes": [],
            "_model_module": "@jupyter-widgets/controls",
            "_model_module_version": "1.5.0",
            "_model_name": "HTMLModel",
            "_view_count": null,
            "_view_module": "@jupyter-widgets/controls",
            "_view_module_version": "1.5.0",
            "_view_name": "HTMLView",
            "description": "",
            "description_tooltip": null,
            "layout": "IPY_MODEL_d3956faca83149d8a0a7a29d47115015",
            "placeholder": "​",
            "style": "IPY_MODEL_c8ab7123d01440d8b5f77a0a9983e4c4",
            "value": " 10085/? [00:10&lt;00:00, 1105.76it/s]"
          }
        },
        "bc5df0a033314f899a979be6f73dcf75": {
          "model_module": "@jupyter-widgets/base",
          "model_name": "LayoutModel",
          "model_module_version": "1.2.0",
          "state": {
            "_model_module": "@jupyter-widgets/base",
            "_model_module_version": "1.2.0",
            "_model_name": "LayoutModel",
            "_view_count": null,
            "_view_module": "@jupyter-widgets/base",
            "_view_module_version": "1.2.0",
            "_view_name": "LayoutView",
            "align_content": null,
            "align_items": null,
            "align_self": null,
            "border": null,
            "bottom": null,
            "display": null,
            "flex": null,
            "flex_flow": null,
            "grid_area": null,
            "grid_auto_columns": null,
            "grid_auto_flow": null,
            "grid_auto_rows": null,
            "grid_column": null,
            "grid_gap": null,
            "grid_row": null,
            "grid_template_areas": null,
            "grid_template_columns": null,
            "grid_template_rows": null,
            "height": null,
            "justify_content": null,
            "justify_items": null,
            "left": null,
            "margin": null,
            "max_height": null,
            "max_width": null,
            "min_height": null,
            "min_width": null,
            "object_fit": null,
            "object_position": null,
            "order": null,
            "overflow": null,
            "overflow_x": null,
            "overflow_y": null,
            "padding": null,
            "right": null,
            "top": null,
            "visibility": null,
            "width": null
          }
        },
        "116d423d80bf4d88b6f3cb50589e3512": {
          "model_module": "@jupyter-widgets/base",
          "model_name": "LayoutModel",
          "model_module_version": "1.2.0",
          "state": {
            "_model_module": "@jupyter-widgets/base",
            "_model_module_version": "1.2.0",
            "_model_name": "LayoutModel",
            "_view_count": null,
            "_view_module": "@jupyter-widgets/base",
            "_view_module_version": "1.2.0",
            "_view_name": "LayoutView",
            "align_content": null,
            "align_items": null,
            "align_self": null,
            "border": null,
            "bottom": null,
            "display": null,
            "flex": null,
            "flex_flow": null,
            "grid_area": null,
            "grid_auto_columns": null,
            "grid_auto_flow": null,
            "grid_auto_rows": null,
            "grid_column": null,
            "grid_gap": null,
            "grid_row": null,
            "grid_template_areas": null,
            "grid_template_columns": null,
            "grid_template_rows": null,
            "height": null,
            "justify_content": null,
            "justify_items": null,
            "left": null,
            "margin": null,
            "max_height": null,
            "max_width": null,
            "min_height": null,
            "min_width": null,
            "object_fit": null,
            "object_position": null,
            "order": null,
            "overflow": null,
            "overflow_x": null,
            "overflow_y": null,
            "padding": null,
            "right": null,
            "top": null,
            "visibility": null,
            "width": null
          }
        },
        "ea12fbc57fb345e89dbfc39d93d15faa": {
          "model_module": "@jupyter-widgets/controls",
          "model_name": "DescriptionStyleModel",
          "model_module_version": "1.5.0",
          "state": {
            "_model_module": "@jupyter-widgets/controls",
            "_model_module_version": "1.5.0",
            "_model_name": "DescriptionStyleModel",
            "_view_count": null,
            "_view_module": "@jupyter-widgets/base",
            "_view_module_version": "1.2.0",
            "_view_name": "StyleView",
            "description_width": ""
          }
        },
        "c9ca08ddd4e346b1a5a9fcf28ff4877c": {
          "model_module": "@jupyter-widgets/base",
          "model_name": "LayoutModel",
          "model_module_version": "1.2.0",
          "state": {
            "_model_module": "@jupyter-widgets/base",
            "_model_module_version": "1.2.0",
            "_model_name": "LayoutModel",
            "_view_count": null,
            "_view_module": "@jupyter-widgets/base",
            "_view_module_version": "1.2.0",
            "_view_name": "LayoutView",
            "align_content": null,
            "align_items": null,
            "align_self": null,
            "border": null,
            "bottom": null,
            "display": null,
            "flex": null,
            "flex_flow": null,
            "grid_area": null,
            "grid_auto_columns": null,
            "grid_auto_flow": null,
            "grid_auto_rows": null,
            "grid_column": null,
            "grid_gap": null,
            "grid_row": null,
            "grid_template_areas": null,
            "grid_template_columns": null,
            "grid_template_rows": null,
            "height": null,
            "justify_content": null,
            "justify_items": null,
            "left": null,
            "margin": null,
            "max_height": null,
            "max_width": null,
            "min_height": null,
            "min_width": null,
            "object_fit": null,
            "object_position": null,
            "order": null,
            "overflow": null,
            "overflow_x": null,
            "overflow_y": null,
            "padding": null,
            "right": null,
            "top": null,
            "visibility": null,
            "width": "20px"
          }
        },
        "f47f6451bac0405aa99e5f62b9569e67": {
          "model_module": "@jupyter-widgets/controls",
          "model_name": "ProgressStyleModel",
          "model_module_version": "1.5.0",
          "state": {
            "_model_module": "@jupyter-widgets/controls",
            "_model_module_version": "1.5.0",
            "_model_name": "ProgressStyleModel",
            "_view_count": null,
            "_view_module": "@jupyter-widgets/base",
            "_view_module_version": "1.2.0",
            "_view_name": "StyleView",
            "bar_color": null,
            "description_width": ""
          }
        },
        "d3956faca83149d8a0a7a29d47115015": {
          "model_module": "@jupyter-widgets/base",
          "model_name": "LayoutModel",
          "model_module_version": "1.2.0",
          "state": {
            "_model_module": "@jupyter-widgets/base",
            "_model_module_version": "1.2.0",
            "_model_name": "LayoutModel",
            "_view_count": null,
            "_view_module": "@jupyter-widgets/base",
            "_view_module_version": "1.2.0",
            "_view_name": "LayoutView",
            "align_content": null,
            "align_items": null,
            "align_self": null,
            "border": null,
            "bottom": null,
            "display": null,
            "flex": null,
            "flex_flow": null,
            "grid_area": null,
            "grid_auto_columns": null,
            "grid_auto_flow": null,
            "grid_auto_rows": null,
            "grid_column": null,
            "grid_gap": null,
            "grid_row": null,
            "grid_template_areas": null,
            "grid_template_columns": null,
            "grid_template_rows": null,
            "height": null,
            "justify_content": null,
            "justify_items": null,
            "left": null,
            "margin": null,
            "max_height": null,
            "max_width": null,
            "min_height": null,
            "min_width": null,
            "object_fit": null,
            "object_position": null,
            "order": null,
            "overflow": null,
            "overflow_x": null,
            "overflow_y": null,
            "padding": null,
            "right": null,
            "top": null,
            "visibility": null,
            "width": null
          }
        },
        "c8ab7123d01440d8b5f77a0a9983e4c4": {
          "model_module": "@jupyter-widgets/controls",
          "model_name": "DescriptionStyleModel",
          "model_module_version": "1.5.0",
          "state": {
            "_model_module": "@jupyter-widgets/controls",
            "_model_module_version": "1.5.0",
            "_model_name": "DescriptionStyleModel",
            "_view_count": null,
            "_view_module": "@jupyter-widgets/base",
            "_view_module_version": "1.2.0",
            "_view_name": "StyleView",
            "description_width": ""
          }
        },
        "5ac2ea87308f4ce2a41baf95bf6a6bd3": {
          "model_module": "@jupyter-widgets/controls",
          "model_name": "HBoxModel",
          "model_module_version": "1.5.0",
          "state": {
            "_dom_classes": [],
            "_model_module": "@jupyter-widgets/controls",
            "_model_module_version": "1.5.0",
            "_model_name": "HBoxModel",
            "_view_count": null,
            "_view_module": "@jupyter-widgets/controls",
            "_view_module_version": "1.5.0",
            "_view_name": "HBoxView",
            "box_style": "",
            "children": [
              "IPY_MODEL_f697074fa7ab4979a77b11bb04ed4d26",
              "IPY_MODEL_97e80e2311164003bda872b749f7d04e",
              "IPY_MODEL_bf9f367eee8b456db517294d4b8cdb98"
            ],
            "layout": "IPY_MODEL_3b99d6268e874d55b5f20293b18b917a"
          }
        },
        "f697074fa7ab4979a77b11bb04ed4d26": {
          "model_module": "@jupyter-widgets/controls",
          "model_name": "HTMLModel",
          "model_module_version": "1.5.0",
          "state": {
            "_dom_classes": [],
            "_model_module": "@jupyter-widgets/controls",
            "_model_module_version": "1.5.0",
            "_model_name": "HTMLModel",
            "_view_count": null,
            "_view_module": "@jupyter-widgets/controls",
            "_view_module_version": "1.5.0",
            "_view_name": "HTMLView",
            "description": "",
            "description_tooltip": null,
            "layout": "IPY_MODEL_69cfbb817391409d81129cbcb5e23ab3",
            "placeholder": "​",
            "style": "IPY_MODEL_c0e06baa1a6d4fb0ad7bb3f20ea95108",
            "value": ""
          }
        },
        "97e80e2311164003bda872b749f7d04e": {
          "model_module": "@jupyter-widgets/controls",
          "model_name": "FloatProgressModel",
          "model_module_version": "1.5.0",
          "state": {
            "_dom_classes": [],
            "_model_module": "@jupyter-widgets/controls",
            "_model_module_version": "1.5.0",
            "_model_name": "FloatProgressModel",
            "_view_count": null,
            "_view_module": "@jupyter-widgets/controls",
            "_view_module_version": "1.5.0",
            "_view_name": "ProgressView",
            "bar_style": "success",
            "description": "",
            "description_tooltip": null,
            "layout": "IPY_MODEL_8c5249a918334b428b6d22cb9288d16f",
            "max": 1,
            "min": 0,
            "orientation": "horizontal",
            "style": "IPY_MODEL_5d5a5adf8ca144bc98bdc96d5045d303",
            "value": 1
          }
        },
        "bf9f367eee8b456db517294d4b8cdb98": {
          "model_module": "@jupyter-widgets/controls",
          "model_name": "HTMLModel",
          "model_module_version": "1.5.0",
          "state": {
            "_dom_classes": [],
            "_model_module": "@jupyter-widgets/controls",
            "_model_module_version": "1.5.0",
            "_model_name": "HTMLModel",
            "_view_count": null,
            "_view_module": "@jupyter-widgets/controls",
            "_view_module_version": "1.5.0",
            "_view_name": "HTMLView",
            "description": "",
            "description_tooltip": null,
            "layout": "IPY_MODEL_cd63ae4089aa4f2a9349692e1fc8f42c",
            "placeholder": "​",
            "style": "IPY_MODEL_28c3f02204ba43df83f3331be89fc0fe",
            "value": " 10085/? [00:10&lt;00:00, 1092.02it/s]"
          }
        },
        "3b99d6268e874d55b5f20293b18b917a": {
          "model_module": "@jupyter-widgets/base",
          "model_name": "LayoutModel",
          "model_module_version": "1.2.0",
          "state": {
            "_model_module": "@jupyter-widgets/base",
            "_model_module_version": "1.2.0",
            "_model_name": "LayoutModel",
            "_view_count": null,
            "_view_module": "@jupyter-widgets/base",
            "_view_module_version": "1.2.0",
            "_view_name": "LayoutView",
            "align_content": null,
            "align_items": null,
            "align_self": null,
            "border": null,
            "bottom": null,
            "display": null,
            "flex": null,
            "flex_flow": null,
            "grid_area": null,
            "grid_auto_columns": null,
            "grid_auto_flow": null,
            "grid_auto_rows": null,
            "grid_column": null,
            "grid_gap": null,
            "grid_row": null,
            "grid_template_areas": null,
            "grid_template_columns": null,
            "grid_template_rows": null,
            "height": null,
            "justify_content": null,
            "justify_items": null,
            "left": null,
            "margin": null,
            "max_height": null,
            "max_width": null,
            "min_height": null,
            "min_width": null,
            "object_fit": null,
            "object_position": null,
            "order": null,
            "overflow": null,
            "overflow_x": null,
            "overflow_y": null,
            "padding": null,
            "right": null,
            "top": null,
            "visibility": null,
            "width": null
          }
        },
        "69cfbb817391409d81129cbcb5e23ab3": {
          "model_module": "@jupyter-widgets/base",
          "model_name": "LayoutModel",
          "model_module_version": "1.2.0",
          "state": {
            "_model_module": "@jupyter-widgets/base",
            "_model_module_version": "1.2.0",
            "_model_name": "LayoutModel",
            "_view_count": null,
            "_view_module": "@jupyter-widgets/base",
            "_view_module_version": "1.2.0",
            "_view_name": "LayoutView",
            "align_content": null,
            "align_items": null,
            "align_self": null,
            "border": null,
            "bottom": null,
            "display": null,
            "flex": null,
            "flex_flow": null,
            "grid_area": null,
            "grid_auto_columns": null,
            "grid_auto_flow": null,
            "grid_auto_rows": null,
            "grid_column": null,
            "grid_gap": null,
            "grid_row": null,
            "grid_template_areas": null,
            "grid_template_columns": null,
            "grid_template_rows": null,
            "height": null,
            "justify_content": null,
            "justify_items": null,
            "left": null,
            "margin": null,
            "max_height": null,
            "max_width": null,
            "min_height": null,
            "min_width": null,
            "object_fit": null,
            "object_position": null,
            "order": null,
            "overflow": null,
            "overflow_x": null,
            "overflow_y": null,
            "padding": null,
            "right": null,
            "top": null,
            "visibility": null,
            "width": null
          }
        },
        "c0e06baa1a6d4fb0ad7bb3f20ea95108": {
          "model_module": "@jupyter-widgets/controls",
          "model_name": "DescriptionStyleModel",
          "model_module_version": "1.5.0",
          "state": {
            "_model_module": "@jupyter-widgets/controls",
            "_model_module_version": "1.5.0",
            "_model_name": "DescriptionStyleModel",
            "_view_count": null,
            "_view_module": "@jupyter-widgets/base",
            "_view_module_version": "1.2.0",
            "_view_name": "StyleView",
            "description_width": ""
          }
        },
        "8c5249a918334b428b6d22cb9288d16f": {
          "model_module": "@jupyter-widgets/base",
          "model_name": "LayoutModel",
          "model_module_version": "1.2.0",
          "state": {
            "_model_module": "@jupyter-widgets/base",
            "_model_module_version": "1.2.0",
            "_model_name": "LayoutModel",
            "_view_count": null,
            "_view_module": "@jupyter-widgets/base",
            "_view_module_version": "1.2.0",
            "_view_name": "LayoutView",
            "align_content": null,
            "align_items": null,
            "align_self": null,
            "border": null,
            "bottom": null,
            "display": null,
            "flex": null,
            "flex_flow": null,
            "grid_area": null,
            "grid_auto_columns": null,
            "grid_auto_flow": null,
            "grid_auto_rows": null,
            "grid_column": null,
            "grid_gap": null,
            "grid_row": null,
            "grid_template_areas": null,
            "grid_template_columns": null,
            "grid_template_rows": null,
            "height": null,
            "justify_content": null,
            "justify_items": null,
            "left": null,
            "margin": null,
            "max_height": null,
            "max_width": null,
            "min_height": null,
            "min_width": null,
            "object_fit": null,
            "object_position": null,
            "order": null,
            "overflow": null,
            "overflow_x": null,
            "overflow_y": null,
            "padding": null,
            "right": null,
            "top": null,
            "visibility": null,
            "width": "20px"
          }
        },
        "5d5a5adf8ca144bc98bdc96d5045d303": {
          "model_module": "@jupyter-widgets/controls",
          "model_name": "ProgressStyleModel",
          "model_module_version": "1.5.0",
          "state": {
            "_model_module": "@jupyter-widgets/controls",
            "_model_module_version": "1.5.0",
            "_model_name": "ProgressStyleModel",
            "_view_count": null,
            "_view_module": "@jupyter-widgets/base",
            "_view_module_version": "1.2.0",
            "_view_name": "StyleView",
            "bar_color": null,
            "description_width": ""
          }
        },
        "cd63ae4089aa4f2a9349692e1fc8f42c": {
          "model_module": "@jupyter-widgets/base",
          "model_name": "LayoutModel",
          "model_module_version": "1.2.0",
          "state": {
            "_model_module": "@jupyter-widgets/base",
            "_model_module_version": "1.2.0",
            "_model_name": "LayoutModel",
            "_view_count": null,
            "_view_module": "@jupyter-widgets/base",
            "_view_module_version": "1.2.0",
            "_view_name": "LayoutView",
            "align_content": null,
            "align_items": null,
            "align_self": null,
            "border": null,
            "bottom": null,
            "display": null,
            "flex": null,
            "flex_flow": null,
            "grid_area": null,
            "grid_auto_columns": null,
            "grid_auto_flow": null,
            "grid_auto_rows": null,
            "grid_column": null,
            "grid_gap": null,
            "grid_row": null,
            "grid_template_areas": null,
            "grid_template_columns": null,
            "grid_template_rows": null,
            "height": null,
            "justify_content": null,
            "justify_items": null,
            "left": null,
            "margin": null,
            "max_height": null,
            "max_width": null,
            "min_height": null,
            "min_width": null,
            "object_fit": null,
            "object_position": null,
            "order": null,
            "overflow": null,
            "overflow_x": null,
            "overflow_y": null,
            "padding": null,
            "right": null,
            "top": null,
            "visibility": null,
            "width": null
          }
        },
        "28c3f02204ba43df83f3331be89fc0fe": {
          "model_module": "@jupyter-widgets/controls",
          "model_name": "DescriptionStyleModel",
          "model_module_version": "1.5.0",
          "state": {
            "_model_module": "@jupyter-widgets/controls",
            "_model_module_version": "1.5.0",
            "_model_name": "DescriptionStyleModel",
            "_view_count": null,
            "_view_module": "@jupyter-widgets/base",
            "_view_module_version": "1.2.0",
            "_view_name": "StyleView",
            "description_width": ""
          }
        }
      }
    }
  },
  "cells": [
    {
      "cell_type": "markdown",
      "metadata": {
        "id": "view-in-github",
        "colab_type": "text"
      },
      "source": [
        "<a href=\"https://colab.research.google.com/github/hap6v6/ML_study/blob/main/%EC%B6%94%EC%B2%9C%20%EC%8B%9C%EC%8A%A4%ED%85%9C%20%EC%9E%85%EB%AC%B8%ED%8E%B8/5_content_based_recommendation_v2.ipynb\" target=\"_parent\"><img src=\"https://colab.research.google.com/assets/colab-badge.svg\" alt=\"Open In Colab\"/></a>"
      ]
    },
    {
      "cell_type": "markdown",
      "source": [
        "# Content-Based Recommendation 2"
      ],
      "metadata": {
        "id": "R84YupgwlCd9"
      }
    },
    {
      "cell_type": "code",
      "source": [
        "import pandas as pd\n",
        "import numpy as np\n",
        "import warnings\n",
        "warnings.filterwarnings('ignore')"
      ],
      "metadata": {
        "id": "WH73wV6ukvm2"
      },
      "execution_count": 161,
      "outputs": []
    },
    {
      "cell_type": "markdown",
      "source": [
        "# Read Data"
      ],
      "metadata": {
        "id": "A0Gg_s7qlWyO"
      }
    },
    {
      "cell_type": "code",
      "source": [
        "ratings = pd.read_pickle('/content/drive/MyDrive/추천 시스템 입문(inflearn)/data/ml-latest-small/ratings_updated.p')\n",
        "genres = pd.read_pickle('/content/drive/MyDrive/추천 시스템 입문(inflearn)/data/ml-latest-small/genres.p')"
      ],
      "metadata": {
        "id": "rXaD4tuqlROL"
      },
      "execution_count": 162,
      "outputs": []
    },
    {
      "cell_type": "markdown",
      "source": [
        "# User profile"
      ],
      "metadata": {
        "id": "p6ybVsB6lty6"
      }
    },
    {
      "cell_type": "markdown",
      "source": [
        "## Sample user 414"
      ],
      "metadata": {
        "id": "iOUiV6HwoxH2"
      }
    },
    {
      "cell_type": "code",
      "source": [
        "# 414번 유저를 샘플 유저로 사용: 데이터 개수가 가장 많음\n",
        "user414 = ratings[ratings['userId'] == 414]\n",
        "user414.sample()"
      ],
      "metadata": {
        "colab": {
          "base_uri": "https://localhost:8080/",
          "height": 80
        },
        "id": "yQYe_tGPlaVj",
        "outputId": "513a866f-539b-43bb-8f90-dd23f623ed7a"
      },
      "execution_count": 163,
      "outputs": [
        {
          "output_type": "execute_result",
          "data": {
            "text/plain": [
              "       userId  movieId   rating           timestamp\n",
              "63368     414     3259 4.000000 2000-06-20 15:17:53"
            ],
            "text/html": [
              "\n",
              "  <div id=\"df-63336ed4-4f40-4f21-94aa-3d4dc7ec2767\">\n",
              "    <div class=\"colab-df-container\">\n",
              "      <div>\n",
              "<style scoped>\n",
              "    .dataframe tbody tr th:only-of-type {\n",
              "        vertical-align: middle;\n",
              "    }\n",
              "\n",
              "    .dataframe tbody tr th {\n",
              "        vertical-align: top;\n",
              "    }\n",
              "\n",
              "    .dataframe thead th {\n",
              "        text-align: right;\n",
              "    }\n",
              "</style>\n",
              "<table border=\"1\" class=\"dataframe\">\n",
              "  <thead>\n",
              "    <tr style=\"text-align: right;\">\n",
              "      <th></th>\n",
              "      <th>userId</th>\n",
              "      <th>movieId</th>\n",
              "      <th>rating</th>\n",
              "      <th>timestamp</th>\n",
              "    </tr>\n",
              "  </thead>\n",
              "  <tbody>\n",
              "    <tr>\n",
              "      <th>63368</th>\n",
              "      <td>414</td>\n",
              "      <td>3259</td>\n",
              "      <td>4.000000</td>\n",
              "      <td>2000-06-20 15:17:53</td>\n",
              "    </tr>\n",
              "  </tbody>\n",
              "</table>\n",
              "</div>\n",
              "      <button class=\"colab-df-convert\" onclick=\"convertToInteractive('df-63336ed4-4f40-4f21-94aa-3d4dc7ec2767')\"\n",
              "              title=\"Convert this dataframe to an interactive table.\"\n",
              "              style=\"display:none;\">\n",
              "        \n",
              "  <svg xmlns=\"http://www.w3.org/2000/svg\" height=\"24px\"viewBox=\"0 0 24 24\"\n",
              "       width=\"24px\">\n",
              "    <path d=\"M0 0h24v24H0V0z\" fill=\"none\"/>\n",
              "    <path d=\"M18.56 5.44l.94 2.06.94-2.06 2.06-.94-2.06-.94-.94-2.06-.94 2.06-2.06.94zm-11 1L8.5 8.5l.94-2.06 2.06-.94-2.06-.94L8.5 2.5l-.94 2.06-2.06.94zm10 10l.94 2.06.94-2.06 2.06-.94-2.06-.94-.94-2.06-.94 2.06-2.06.94z\"/><path d=\"M17.41 7.96l-1.37-1.37c-.4-.4-.92-.59-1.43-.59-.52 0-1.04.2-1.43.59L10.3 9.45l-7.72 7.72c-.78.78-.78 2.05 0 2.83L4 21.41c.39.39.9.59 1.41.59.51 0 1.02-.2 1.41-.59l7.78-7.78 2.81-2.81c.8-.78.8-2.07 0-2.86zM5.41 20L4 18.59l7.72-7.72 1.47 1.35L5.41 20z\"/>\n",
              "  </svg>\n",
              "      </button>\n",
              "      \n",
              "  <style>\n",
              "    .colab-df-container {\n",
              "      display:flex;\n",
              "      flex-wrap:wrap;\n",
              "      gap: 12px;\n",
              "    }\n",
              "\n",
              "    .colab-df-convert {\n",
              "      background-color: #E8F0FE;\n",
              "      border: none;\n",
              "      border-radius: 50%;\n",
              "      cursor: pointer;\n",
              "      display: none;\n",
              "      fill: #1967D2;\n",
              "      height: 32px;\n",
              "      padding: 0 0 0 0;\n",
              "      width: 32px;\n",
              "    }\n",
              "\n",
              "    .colab-df-convert:hover {\n",
              "      background-color: #E2EBFA;\n",
              "      box-shadow: 0px 1px 2px rgba(60, 64, 67, 0.3), 0px 1px 3px 1px rgba(60, 64, 67, 0.15);\n",
              "      fill: #174EA6;\n",
              "    }\n",
              "\n",
              "    [theme=dark] .colab-df-convert {\n",
              "      background-color: #3B4455;\n",
              "      fill: #D2E3FC;\n",
              "    }\n",
              "\n",
              "    [theme=dark] .colab-df-convert:hover {\n",
              "      background-color: #434B5C;\n",
              "      box-shadow: 0px 1px 3px 1px rgba(0, 0, 0, 0.15);\n",
              "      filter: drop-shadow(0px 1px 2px rgba(0, 0, 0, 0.3));\n",
              "      fill: #FFFFFF;\n",
              "    }\n",
              "  </style>\n",
              "\n",
              "      <script>\n",
              "        const buttonEl =\n",
              "          document.querySelector('#df-63336ed4-4f40-4f21-94aa-3d4dc7ec2767 button.colab-df-convert');\n",
              "        buttonEl.style.display =\n",
              "          google.colab.kernel.accessAllowed ? 'block' : 'none';\n",
              "\n",
              "        async function convertToInteractive(key) {\n",
              "          const element = document.querySelector('#df-63336ed4-4f40-4f21-94aa-3d4dc7ec2767');\n",
              "          const dataTable =\n",
              "            await google.colab.kernel.invokeFunction('convertToInteractive',\n",
              "                                                     [key], {});\n",
              "          if (!dataTable) return;\n",
              "\n",
              "          const docLinkHtml = 'Like what you see? Visit the ' +\n",
              "            '<a target=\"_blank\" href=https://colab.research.google.com/notebooks/data_table.ipynb>data table notebook</a>'\n",
              "            + ' to learn more about interactive tables.';\n",
              "          element.innerHTML = '';\n",
              "          dataTable['output_type'] = 'display_data';\n",
              "          await google.colab.output.renderOutput(dataTable, element);\n",
              "          const docLink = document.createElement('div');\n",
              "          docLink.innerHTML = docLinkHtml;\n",
              "          element.appendChild(docLink);\n",
              "        }\n",
              "      </script>\n",
              "    </div>\n",
              "  </div>\n",
              "  "
            ]
          },
          "metadata": {},
          "execution_count": 163
        }
      ]
    },
    {
      "cell_type": "code",
      "source": [
        "len(user414)\n",
        "# 2698개의 영화를 봄"
      ],
      "metadata": {
        "colab": {
          "base_uri": "https://localhost:8080/"
        },
        "id": "MOO1jEhhmOJ_",
        "outputId": "5cedd61a-2fed-43e9-fe78-34fe80519bb7"
      },
      "execution_count": 164,
      "outputs": [
        {
          "output_type": "execute_result",
          "data": {
            "text/plain": [
              "2698"
            ]
          },
          "metadata": {},
          "execution_count": 164
        }
      ]
    },
    {
      "cell_type": "code",
      "source": [
        "# 유저 데이터에 장르 데이터 붙여줌\n",
        "user414 = user414.merge(genres, left_on='movieId', right_index=True)\n",
        "user414.sample()"
      ],
      "metadata": {
        "colab": {
          "base_uri": "https://localhost:8080/",
          "height": 224
        },
        "id": "i5eoa_D1mYas",
        "outputId": "b2c080b3-7cf9-4ad5-ee2c-8af282f3c576"
      },
      "execution_count": 165,
      "outputs": [
        {
          "output_type": "execute_result",
          "data": {
            "text/plain": [
              "       userId  movieId   rating           timestamp  (no genres listed)  \\\n",
              "63125     414     2411 3.000000 2000-06-20 15:52:56                   0   \n",
              "\n",
              "       Action  Adventure  Animation  Children  Comedy  ...  Film-Noir  Horror  \\\n",
              "63125       1          0          0         0       0  ...          0       0   \n",
              "\n",
              "       IMAX  Musical  Mystery  Romance  Sci-Fi  Thriller  War  Western  \n",
              "63125     0        0        0        0       0         0    0        0  \n",
              "\n",
              "[1 rows x 24 columns]"
            ],
            "text/html": [
              "\n",
              "  <div id=\"df-af4ab09e-6d03-4e2e-b007-0befcf71b2f7\">\n",
              "    <div class=\"colab-df-container\">\n",
              "      <div>\n",
              "<style scoped>\n",
              "    .dataframe tbody tr th:only-of-type {\n",
              "        vertical-align: middle;\n",
              "    }\n",
              "\n",
              "    .dataframe tbody tr th {\n",
              "        vertical-align: top;\n",
              "    }\n",
              "\n",
              "    .dataframe thead th {\n",
              "        text-align: right;\n",
              "    }\n",
              "</style>\n",
              "<table border=\"1\" class=\"dataframe\">\n",
              "  <thead>\n",
              "    <tr style=\"text-align: right;\">\n",
              "      <th></th>\n",
              "      <th>userId</th>\n",
              "      <th>movieId</th>\n",
              "      <th>rating</th>\n",
              "      <th>timestamp</th>\n",
              "      <th>(no genres listed)</th>\n",
              "      <th>Action</th>\n",
              "      <th>Adventure</th>\n",
              "      <th>Animation</th>\n",
              "      <th>Children</th>\n",
              "      <th>Comedy</th>\n",
              "      <th>...</th>\n",
              "      <th>Film-Noir</th>\n",
              "      <th>Horror</th>\n",
              "      <th>IMAX</th>\n",
              "      <th>Musical</th>\n",
              "      <th>Mystery</th>\n",
              "      <th>Romance</th>\n",
              "      <th>Sci-Fi</th>\n",
              "      <th>Thriller</th>\n",
              "      <th>War</th>\n",
              "      <th>Western</th>\n",
              "    </tr>\n",
              "  </thead>\n",
              "  <tbody>\n",
              "    <tr>\n",
              "      <th>63125</th>\n",
              "      <td>414</td>\n",
              "      <td>2411</td>\n",
              "      <td>3.000000</td>\n",
              "      <td>2000-06-20 15:52:56</td>\n",
              "      <td>0</td>\n",
              "      <td>1</td>\n",
              "      <td>0</td>\n",
              "      <td>0</td>\n",
              "      <td>0</td>\n",
              "      <td>0</td>\n",
              "      <td>...</td>\n",
              "      <td>0</td>\n",
              "      <td>0</td>\n",
              "      <td>0</td>\n",
              "      <td>0</td>\n",
              "      <td>0</td>\n",
              "      <td>0</td>\n",
              "      <td>0</td>\n",
              "      <td>0</td>\n",
              "      <td>0</td>\n",
              "      <td>0</td>\n",
              "    </tr>\n",
              "  </tbody>\n",
              "</table>\n",
              "<p>1 rows × 24 columns</p>\n",
              "</div>\n",
              "      <button class=\"colab-df-convert\" onclick=\"convertToInteractive('df-af4ab09e-6d03-4e2e-b007-0befcf71b2f7')\"\n",
              "              title=\"Convert this dataframe to an interactive table.\"\n",
              "              style=\"display:none;\">\n",
              "        \n",
              "  <svg xmlns=\"http://www.w3.org/2000/svg\" height=\"24px\"viewBox=\"0 0 24 24\"\n",
              "       width=\"24px\">\n",
              "    <path d=\"M0 0h24v24H0V0z\" fill=\"none\"/>\n",
              "    <path d=\"M18.56 5.44l.94 2.06.94-2.06 2.06-.94-2.06-.94-.94-2.06-.94 2.06-2.06.94zm-11 1L8.5 8.5l.94-2.06 2.06-.94-2.06-.94L8.5 2.5l-.94 2.06-2.06.94zm10 10l.94 2.06.94-2.06 2.06-.94-2.06-.94-.94-2.06-.94 2.06-2.06.94z\"/><path d=\"M17.41 7.96l-1.37-1.37c-.4-.4-.92-.59-1.43-.59-.52 0-1.04.2-1.43.59L10.3 9.45l-7.72 7.72c-.78.78-.78 2.05 0 2.83L4 21.41c.39.39.9.59 1.41.59.51 0 1.02-.2 1.41-.59l7.78-7.78 2.81-2.81c.8-.78.8-2.07 0-2.86zM5.41 20L4 18.59l7.72-7.72 1.47 1.35L5.41 20z\"/>\n",
              "  </svg>\n",
              "      </button>\n",
              "      \n",
              "  <style>\n",
              "    .colab-df-container {\n",
              "      display:flex;\n",
              "      flex-wrap:wrap;\n",
              "      gap: 12px;\n",
              "    }\n",
              "\n",
              "    .colab-df-convert {\n",
              "      background-color: #E8F0FE;\n",
              "      border: none;\n",
              "      border-radius: 50%;\n",
              "      cursor: pointer;\n",
              "      display: none;\n",
              "      fill: #1967D2;\n",
              "      height: 32px;\n",
              "      padding: 0 0 0 0;\n",
              "      width: 32px;\n",
              "    }\n",
              "\n",
              "    .colab-df-convert:hover {\n",
              "      background-color: #E2EBFA;\n",
              "      box-shadow: 0px 1px 2px rgba(60, 64, 67, 0.3), 0px 1px 3px 1px rgba(60, 64, 67, 0.15);\n",
              "      fill: #174EA6;\n",
              "    }\n",
              "\n",
              "    [theme=dark] .colab-df-convert {\n",
              "      background-color: #3B4455;\n",
              "      fill: #D2E3FC;\n",
              "    }\n",
              "\n",
              "    [theme=dark] .colab-df-convert:hover {\n",
              "      background-color: #434B5C;\n",
              "      box-shadow: 0px 1px 3px 1px rgba(0, 0, 0, 0.15);\n",
              "      filter: drop-shadow(0px 1px 2px rgba(0, 0, 0, 0.3));\n",
              "      fill: #FFFFFF;\n",
              "    }\n",
              "  </style>\n",
              "\n",
              "      <script>\n",
              "        const buttonEl =\n",
              "          document.querySelector('#df-af4ab09e-6d03-4e2e-b007-0befcf71b2f7 button.colab-df-convert');\n",
              "        buttonEl.style.display =\n",
              "          google.colab.kernel.accessAllowed ? 'block' : 'none';\n",
              "\n",
              "        async function convertToInteractive(key) {\n",
              "          const element = document.querySelector('#df-af4ab09e-6d03-4e2e-b007-0befcf71b2f7');\n",
              "          const dataTable =\n",
              "            await google.colab.kernel.invokeFunction('convertToInteractive',\n",
              "                                                     [key], {});\n",
              "          if (!dataTable) return;\n",
              "\n",
              "          const docLinkHtml = 'Like what you see? Visit the ' +\n",
              "            '<a target=\"_blank\" href=https://colab.research.google.com/notebooks/data_table.ipynb>data table notebook</a>'\n",
              "            + ' to learn more about interactive tables.';\n",
              "          element.innerHTML = '';\n",
              "          dataTable['output_type'] = 'display_data';\n",
              "          await google.colab.output.renderOutput(dataTable, element);\n",
              "          const docLink = document.createElement('div');\n",
              "          docLink.innerHTML = docLinkHtml;\n",
              "          element.appendChild(docLink);\n",
              "        }\n",
              "      </script>\n",
              "    </div>\n",
              "  </div>\n",
              "  "
            ]
          },
          "metadata": {},
          "execution_count": 165
        }
      ]
    },
    {
      "cell_type": "markdown",
      "source": [
        "# Train Test Split\n",
        "## 샘플 유저의 평점을 학습 데이터와 평가 데이터로 나누기"
      ],
      "metadata": {
        "id": "HOtlEkRgpGQ8"
      }
    },
    {
      "cell_type": "code",
      "source": [
        "from sklearn.model_selection import train_test_split"
      ],
      "metadata": {
        "id": "g7gw0O4po4Lv"
      },
      "execution_count": 166,
      "outputs": []
    },
    {
      "cell_type": "code",
      "source": [
        "# user 414의 장르 정보와 rating 정보 따로 나눔\n",
        "# X: 장르 정보, y: 해당 평점 정보\n",
        "X_train, X_test, y_train, y_test = train_test_split(user414[genres.columns], \n",
        "                                                    user414['rating'], \n",
        "                                                    random_state=42, test_size=.1)"
      ],
      "metadata": {
        "id": "B9yEyHjIo7rU"
      },
      "execution_count": 167,
      "outputs": []
    },
    {
      "cell_type": "code",
      "source": [
        "# feature, X: y를 예측하기 위해 필요한 정보들\n",
        "# label, y: 정답\n",
        "print(X_train.shape)\n",
        "print(y_train.shape)\n",
        "\n",
        "print(X_test.shape)\n",
        "print(y_test.shape)"
      ],
      "metadata": {
        "colab": {
          "base_uri": "https://localhost:8080/"
        },
        "id": "fuLCJ4im55wt",
        "outputId": "ed69a0e5-b9ba-4117-f307-03f7b1d255b3"
      },
      "execution_count": 168,
      "outputs": [
        {
          "output_type": "stream",
          "name": "stdout",
          "text": [
            "(2428, 20)\n",
            "(2428,)\n",
            "(270, 20)\n",
            "(270,)\n"
          ]
        }
      ]
    },
    {
      "cell_type": "code",
      "source": [
        "X_train.sample()"
      ],
      "metadata": {
        "colab": {
          "base_uri": "https://localhost:8080/",
          "height": 178
        },
        "id": "aCONx-Uq6IyS",
        "outputId": "9dc2810a-5ccf-4f89-9614-577b86f8ec07"
      },
      "execution_count": 169,
      "outputs": [
        {
          "output_type": "execute_result",
          "data": {
            "text/plain": [
              "       (no genres listed)  Action  Adventure  Animation  Children  Comedy  \\\n",
              "62968                   0       0          0          0         0       1   \n",
              "\n",
              "       Crime  Documentary  Drama  Fantasy  Film-Noir  Horror  IMAX  Musical  \\\n",
              "62968      0            0      0        0          0       0     0        0   \n",
              "\n",
              "       Mystery  Romance  Sci-Fi  Thriller  War  Western  \n",
              "62968        0        0       0         0    0        0  "
            ],
            "text/html": [
              "\n",
              "  <div id=\"df-759ec4ff-3959-4a66-9636-5e860cc75f78\">\n",
              "    <div class=\"colab-df-container\">\n",
              "      <div>\n",
              "<style scoped>\n",
              "    .dataframe tbody tr th:only-of-type {\n",
              "        vertical-align: middle;\n",
              "    }\n",
              "\n",
              "    .dataframe tbody tr th {\n",
              "        vertical-align: top;\n",
              "    }\n",
              "\n",
              "    .dataframe thead th {\n",
              "        text-align: right;\n",
              "    }\n",
              "</style>\n",
              "<table border=\"1\" class=\"dataframe\">\n",
              "  <thead>\n",
              "    <tr style=\"text-align: right;\">\n",
              "      <th></th>\n",
              "      <th>(no genres listed)</th>\n",
              "      <th>Action</th>\n",
              "      <th>Adventure</th>\n",
              "      <th>Animation</th>\n",
              "      <th>Children</th>\n",
              "      <th>Comedy</th>\n",
              "      <th>Crime</th>\n",
              "      <th>Documentary</th>\n",
              "      <th>Drama</th>\n",
              "      <th>Fantasy</th>\n",
              "      <th>Film-Noir</th>\n",
              "      <th>Horror</th>\n",
              "      <th>IMAX</th>\n",
              "      <th>Musical</th>\n",
              "      <th>Mystery</th>\n",
              "      <th>Romance</th>\n",
              "      <th>Sci-Fi</th>\n",
              "      <th>Thriller</th>\n",
              "      <th>War</th>\n",
              "      <th>Western</th>\n",
              "    </tr>\n",
              "  </thead>\n",
              "  <tbody>\n",
              "    <tr>\n",
              "      <th>62968</th>\n",
              "      <td>0</td>\n",
              "      <td>0</td>\n",
              "      <td>0</td>\n",
              "      <td>0</td>\n",
              "      <td>0</td>\n",
              "      <td>1</td>\n",
              "      <td>0</td>\n",
              "      <td>0</td>\n",
              "      <td>0</td>\n",
              "      <td>0</td>\n",
              "      <td>0</td>\n",
              "      <td>0</td>\n",
              "      <td>0</td>\n",
              "      <td>0</td>\n",
              "      <td>0</td>\n",
              "      <td>0</td>\n",
              "      <td>0</td>\n",
              "      <td>0</td>\n",
              "      <td>0</td>\n",
              "      <td>0</td>\n",
              "    </tr>\n",
              "  </tbody>\n",
              "</table>\n",
              "</div>\n",
              "      <button class=\"colab-df-convert\" onclick=\"convertToInteractive('df-759ec4ff-3959-4a66-9636-5e860cc75f78')\"\n",
              "              title=\"Convert this dataframe to an interactive table.\"\n",
              "              style=\"display:none;\">\n",
              "        \n",
              "  <svg xmlns=\"http://www.w3.org/2000/svg\" height=\"24px\"viewBox=\"0 0 24 24\"\n",
              "       width=\"24px\">\n",
              "    <path d=\"M0 0h24v24H0V0z\" fill=\"none\"/>\n",
              "    <path d=\"M18.56 5.44l.94 2.06.94-2.06 2.06-.94-2.06-.94-.94-2.06-.94 2.06-2.06.94zm-11 1L8.5 8.5l.94-2.06 2.06-.94-2.06-.94L8.5 2.5l-.94 2.06-2.06.94zm10 10l.94 2.06.94-2.06 2.06-.94-2.06-.94-.94-2.06-.94 2.06-2.06.94z\"/><path d=\"M17.41 7.96l-1.37-1.37c-.4-.4-.92-.59-1.43-.59-.52 0-1.04.2-1.43.59L10.3 9.45l-7.72 7.72c-.78.78-.78 2.05 0 2.83L4 21.41c.39.39.9.59 1.41.59.51 0 1.02-.2 1.41-.59l7.78-7.78 2.81-2.81c.8-.78.8-2.07 0-2.86zM5.41 20L4 18.59l7.72-7.72 1.47 1.35L5.41 20z\"/>\n",
              "  </svg>\n",
              "      </button>\n",
              "      \n",
              "  <style>\n",
              "    .colab-df-container {\n",
              "      display:flex;\n",
              "      flex-wrap:wrap;\n",
              "      gap: 12px;\n",
              "    }\n",
              "\n",
              "    .colab-df-convert {\n",
              "      background-color: #E8F0FE;\n",
              "      border: none;\n",
              "      border-radius: 50%;\n",
              "      cursor: pointer;\n",
              "      display: none;\n",
              "      fill: #1967D2;\n",
              "      height: 32px;\n",
              "      padding: 0 0 0 0;\n",
              "      width: 32px;\n",
              "    }\n",
              "\n",
              "    .colab-df-convert:hover {\n",
              "      background-color: #E2EBFA;\n",
              "      box-shadow: 0px 1px 2px rgba(60, 64, 67, 0.3), 0px 1px 3px 1px rgba(60, 64, 67, 0.15);\n",
              "      fill: #174EA6;\n",
              "    }\n",
              "\n",
              "    [theme=dark] .colab-df-convert {\n",
              "      background-color: #3B4455;\n",
              "      fill: #D2E3FC;\n",
              "    }\n",
              "\n",
              "    [theme=dark] .colab-df-convert:hover {\n",
              "      background-color: #434B5C;\n",
              "      box-shadow: 0px 1px 3px 1px rgba(0, 0, 0, 0.15);\n",
              "      filter: drop-shadow(0px 1px 2px rgba(0, 0, 0, 0.3));\n",
              "      fill: #FFFFFF;\n",
              "    }\n",
              "  </style>\n",
              "\n",
              "      <script>\n",
              "        const buttonEl =\n",
              "          document.querySelector('#df-759ec4ff-3959-4a66-9636-5e860cc75f78 button.colab-df-convert');\n",
              "        buttonEl.style.display =\n",
              "          google.colab.kernel.accessAllowed ? 'block' : 'none';\n",
              "\n",
              "        async function convertToInteractive(key) {\n",
              "          const element = document.querySelector('#df-759ec4ff-3959-4a66-9636-5e860cc75f78');\n",
              "          const dataTable =\n",
              "            await google.colab.kernel.invokeFunction('convertToInteractive',\n",
              "                                                     [key], {});\n",
              "          if (!dataTable) return;\n",
              "\n",
              "          const docLinkHtml = 'Like what you see? Visit the ' +\n",
              "            '<a target=\"_blank\" href=https://colab.research.google.com/notebooks/data_table.ipynb>data table notebook</a>'\n",
              "            + ' to learn more about interactive tables.';\n",
              "          element.innerHTML = '';\n",
              "          dataTable['output_type'] = 'display_data';\n",
              "          await google.colab.output.renderOutput(dataTable, element);\n",
              "          const docLink = document.createElement('div');\n",
              "          docLink.innerHTML = docLinkHtml;\n",
              "          element.appendChild(docLink);\n",
              "        }\n",
              "      </script>\n",
              "    </div>\n",
              "  </div>\n",
              "  "
            ]
          },
          "metadata": {},
          "execution_count": 169
        }
      ]
    },
    {
      "cell_type": "markdown",
      "source": [
        "# 샘플 유저의 프로필 만들기"
      ],
      "metadata": {
        "id": "T3xqpojEO7tV"
      }
    },
    {
      "cell_type": "markdown",
      "source": [
        "## Linear Regression"
      ],
      "metadata": {
        "id": "UKKH12PE6weR"
      }
    },
    {
      "cell_type": "code",
      "source": [
        "from sklearn.linear_model import LinearRegression"
      ],
      "metadata": {
        "id": "zmYXrVrI6l9I"
      },
      "execution_count": 170,
      "outputs": []
    },
    {
      "cell_type": "code",
      "source": [
        "# 모델 만들기\n",
        "reg = LinearRegression()"
      ],
      "metadata": {
        "id": "0KhBRdNx6zcl"
      },
      "execution_count": 171,
      "outputs": []
    },
    {
      "cell_type": "code",
      "source": [
        "# 모델 훈련\n",
        "reg.fit(X_train, y_train)"
      ],
      "metadata": {
        "colab": {
          "base_uri": "https://localhost:8080/",
          "height": 74
        },
        "id": "5SEdyJ-x8R0Y",
        "outputId": "0c442b31-a143-46d6-c86d-4af124fce9ae"
      },
      "execution_count": 172,
      "outputs": [
        {
          "output_type": "execute_result",
          "data": {
            "text/plain": [
              "LinearRegression()"
            ],
            "text/html": [
              "<style>#sk-container-id-4 {color: black;background-color: white;}#sk-container-id-4 pre{padding: 0;}#sk-container-id-4 div.sk-toggleable {background-color: white;}#sk-container-id-4 label.sk-toggleable__label {cursor: pointer;display: block;width: 100%;margin-bottom: 0;padding: 0.3em;box-sizing: border-box;text-align: center;}#sk-container-id-4 label.sk-toggleable__label-arrow:before {content: \"▸\";float: left;margin-right: 0.25em;color: #696969;}#sk-container-id-4 label.sk-toggleable__label-arrow:hover:before {color: black;}#sk-container-id-4 div.sk-estimator:hover label.sk-toggleable__label-arrow:before {color: black;}#sk-container-id-4 div.sk-toggleable__content {max-height: 0;max-width: 0;overflow: hidden;text-align: left;background-color: #f0f8ff;}#sk-container-id-4 div.sk-toggleable__content pre {margin: 0.2em;color: black;border-radius: 0.25em;background-color: #f0f8ff;}#sk-container-id-4 input.sk-toggleable__control:checked~div.sk-toggleable__content {max-height: 200px;max-width: 100%;overflow: auto;}#sk-container-id-4 input.sk-toggleable__control:checked~label.sk-toggleable__label-arrow:before {content: \"▾\";}#sk-container-id-4 div.sk-estimator input.sk-toggleable__control:checked~label.sk-toggleable__label {background-color: #d4ebff;}#sk-container-id-4 div.sk-label input.sk-toggleable__control:checked~label.sk-toggleable__label {background-color: #d4ebff;}#sk-container-id-4 input.sk-hidden--visually {border: 0;clip: rect(1px 1px 1px 1px);clip: rect(1px, 1px, 1px, 1px);height: 1px;margin: -1px;overflow: hidden;padding: 0;position: absolute;width: 1px;}#sk-container-id-4 div.sk-estimator {font-family: monospace;background-color: #f0f8ff;border: 1px dotted black;border-radius: 0.25em;box-sizing: border-box;margin-bottom: 0.5em;}#sk-container-id-4 div.sk-estimator:hover {background-color: #d4ebff;}#sk-container-id-4 div.sk-parallel-item::after {content: \"\";width: 100%;border-bottom: 1px solid gray;flex-grow: 1;}#sk-container-id-4 div.sk-label:hover label.sk-toggleable__label {background-color: #d4ebff;}#sk-container-id-4 div.sk-serial::before {content: \"\";position: absolute;border-left: 1px solid gray;box-sizing: border-box;top: 0;bottom: 0;left: 50%;z-index: 0;}#sk-container-id-4 div.sk-serial {display: flex;flex-direction: column;align-items: center;background-color: white;padding-right: 0.2em;padding-left: 0.2em;position: relative;}#sk-container-id-4 div.sk-item {position: relative;z-index: 1;}#sk-container-id-4 div.sk-parallel {display: flex;align-items: stretch;justify-content: center;background-color: white;position: relative;}#sk-container-id-4 div.sk-item::before, #sk-container-id-4 div.sk-parallel-item::before {content: \"\";position: absolute;border-left: 1px solid gray;box-sizing: border-box;top: 0;bottom: 0;left: 50%;z-index: -1;}#sk-container-id-4 div.sk-parallel-item {display: flex;flex-direction: column;z-index: 1;position: relative;background-color: white;}#sk-container-id-4 div.sk-parallel-item:first-child::after {align-self: flex-end;width: 50%;}#sk-container-id-4 div.sk-parallel-item:last-child::after {align-self: flex-start;width: 50%;}#sk-container-id-4 div.sk-parallel-item:only-child::after {width: 0;}#sk-container-id-4 div.sk-dashed-wrapped {border: 1px dashed gray;margin: 0 0.4em 0.5em 0.4em;box-sizing: border-box;padding-bottom: 0.4em;background-color: white;}#sk-container-id-4 div.sk-label label {font-family: monospace;font-weight: bold;display: inline-block;line-height: 1.2em;}#sk-container-id-4 div.sk-label-container {text-align: center;}#sk-container-id-4 div.sk-container {/* jupyter's `normalize.less` sets `[hidden] { display: none; }` but bootstrap.min.css set `[hidden] { display: none !important; }` so we also need the `!important` here to be able to override the default hidden behavior on the sphinx rendered scikit-learn.org. See: https://github.com/scikit-learn/scikit-learn/issues/21755 */display: inline-block !important;position: relative;}#sk-container-id-4 div.sk-text-repr-fallback {display: none;}</style><div id=\"sk-container-id-4\" class=\"sk-top-container\"><div class=\"sk-text-repr-fallback\"><pre>LinearRegression()</pre><b>In a Jupyter environment, please rerun this cell to show the HTML representation or trust the notebook. <br />On GitHub, the HTML representation is unable to render, please try loading this page with nbviewer.org.</b></div><div class=\"sk-container\" hidden><div class=\"sk-item\"><div class=\"sk-estimator sk-toggleable\"><input class=\"sk-toggleable__control sk-hidden--visually\" id=\"sk-estimator-id-4\" type=\"checkbox\" checked><label for=\"sk-estimator-id-4\" class=\"sk-toggleable__label sk-toggleable__label-arrow\">LinearRegression</label><div class=\"sk-toggleable__content\"><pre>LinearRegression()</pre></div></div></div></div></div>"
            ]
          },
          "metadata": {},
          "execution_count": 172
        }
      ]
    },
    {
      "cell_type": "code",
      "source": [
        "# coefficient: 계수\n",
        "reg.coef_"
      ],
      "metadata": {
        "colab": {
          "base_uri": "https://localhost:8080/"
        },
        "id": "9xC7xG4f8ZLS",
        "outputId": "38e40011-ab1b-4d48-87bc-a2da677f9a81"
      },
      "execution_count": 173,
      "outputs": [
        {
          "output_type": "execute_result",
          "data": {
            "text/plain": [
              "array([ 1.04932187, -0.16519465,  0.12503892,  0.66646026, -0.29618416,\n",
              "       -0.06757262,  0.1753061 ,  0.43261644,  0.31547858,  0.05636728,\n",
              "        0.29277987, -0.1206128 ,  0.35832908,  0.03551429,  0.25847584,\n",
              "       -0.01912917,  0.1634995 , -0.13939399,  0.43835199,  0.29161535])"
            ]
          },
          "metadata": {},
          "execution_count": 173
        }
      ]
    },
    {
      "cell_type": "code",
      "source": [
        "# intercept: 절편\n",
        "# 기본 정수. 모든 장르 데이터가 없는 경우\n",
        "reg.intercept_"
      ],
      "metadata": {
        "colab": {
          "base_uri": "https://localhost:8080/"
        },
        "id": "YH6WHObx8b9S",
        "outputId": "fcc4c89d-370c-4e4b-a29f-201c7defc57b"
      },
      "execution_count": 174,
      "outputs": [
        {
          "output_type": "execute_result",
          "data": {
            "text/plain": [
              "3.200678127757581"
            ]
          },
          "metadata": {},
          "execution_count": 174
        }
      ]
    },
    {
      "cell_type": "code",
      "source": [
        "# 아무런 장르 정보가 없는 영화에 대해서 예측 평점\n",
        "# baseline score + (no genre listed) 변수의 coefficient\n",
        "reg.intercept_ + reg.coef_[0]"
      ],
      "metadata": {
        "colab": {
          "base_uri": "https://localhost:8080/"
        },
        "id": "GHubi6cGRnJD",
        "outputId": "b4d1f94f-d43f-458b-dbe9-ddf9fe2f1ba6"
      },
      "execution_count": 175,
      "outputs": [
        {
          "output_type": "execute_result",
          "data": {
            "text/plain": [
              "4.2500000000000036"
            ]
          },
          "metadata": {},
          "execution_count": 175
        }
      ]
    },
    {
      "cell_type": "code",
      "source": [
        "# Action 장르의 영화 예상 평점\n",
        "# baseline score + Action 장르에 대한 coefficient\n",
        "reg.intercept_ + reg.coef_[1]"
      ],
      "metadata": {
        "colab": {
          "base_uri": "https://localhost:8080/"
        },
        "id": "lbvilwzNLnr8",
        "outputId": "98c6c8e4-addd-4fdb-b936-f7d3544b44a3"
      },
      "execution_count": 176,
      "outputs": [
        {
          "output_type": "execute_result",
          "data": {
            "text/plain": [
              "3.035483479187076"
            ]
          },
          "metadata": {},
          "execution_count": 176
        }
      ]
    },
    {
      "cell_type": "code",
      "source": [
        "# Action, Adventure 장르의 영화 예상 평점\n",
        "# baseline score + Action 장르에 대한 coefficient + Adventure 장르에 대한 coefficient\n",
        "reg.intercept_ + reg.coef_[1] + reg.coef_[2]"
      ],
      "metadata": {
        "colab": {
          "base_uri": "https://localhost:8080/"
        },
        "id": "x-D6ulKjL7SV",
        "outputId": "3edfe613-5e1b-478d-99ef-fa32fa8ad1ca"
      },
      "execution_count": 177,
      "outputs": [
        {
          "output_type": "execute_result",
          "data": {
            "text/plain": [
              "3.16052239519615"
            ]
          },
          "metadata": {},
          "execution_count": 177
        }
      ]
    },
    {
      "cell_type": "code",
      "source": [
        "list(zip(X_train.columns, reg.coef_))"
      ],
      "metadata": {
        "colab": {
          "base_uri": "https://localhost:8080/"
        },
        "id": "gTOsZ7GfK_4H",
        "outputId": "d4bc1b18-9662-4359-b182-5b0dd61224d4"
      },
      "execution_count": 178,
      "outputs": [
        {
          "output_type": "execute_result",
          "data": {
            "text/plain": [
              "[('(no genres listed)', 1.0493218722424231),\n",
              " ('Action', -0.16519464857050492),\n",
              " ('Adventure', 0.1250389160090738),\n",
              " ('Animation', 0.6664602615156161),\n",
              " ('Children', -0.29618416468814773),\n",
              " ('Comedy', -0.06757261930358603),\n",
              " ('Crime', 0.17530609839293299),\n",
              " ('Documentary', 0.43261644111066383),\n",
              " ('Drama', 0.31547857708591487),\n",
              " ('Fantasy', 0.05636727626646813),\n",
              " ('Film-Noir', 0.29277987382219783),\n",
              " ('Horror', -0.12061279616418584),\n",
              " ('IMAX', 0.35832907660236973),\n",
              " ('Musical', 0.035514285435159554),\n",
              " ('Mystery', 0.2584758423706581),\n",
              " ('Romance', -0.019129170010524225),\n",
              " ('Sci-Fi', 0.1634994999246448),\n",
              " ('Thriller', -0.13939399479870954),\n",
              " ('War', 0.4383519944116418),\n",
              " ('Western', 0.29161535403606054)]"
            ]
          },
          "metadata": {},
          "execution_count": 178
        }
      ]
    },
    {
      "cell_type": "markdown",
      "source": [
        "## 시각화"
      ],
      "metadata": {
        "id": "CZ--4nTvMVTc"
      }
    },
    {
      "cell_type": "code",
      "source": [
        "%matplotlib inline"
      ],
      "metadata": {
        "id": "csAmDcAYLLB1"
      },
      "execution_count": 179,
      "outputs": []
    },
    {
      "cell_type": "code",
      "source": [
        "user414['rating'].hist()"
      ],
      "metadata": {
        "colab": {
          "base_uri": "https://localhost:8080/",
          "height": 447
        },
        "id": "5I0aGYgwMal6",
        "outputId": "5250a731-7971-43b5-a0ee-7824c28bd82d"
      },
      "execution_count": 180,
      "outputs": [
        {
          "output_type": "execute_result",
          "data": {
            "text/plain": [
              "<Axes: >"
            ]
          },
          "metadata": {},
          "execution_count": 180
        },
        {
          "output_type": "display_data",
          "data": {
            "text/plain": [
              "<Figure size 640x480 with 1 Axes>"
            ],
            "image/png": "[encoded data removed]"
          },
          "metadata": {}
        }
      ]
    },
    {
      "cell_type": "code",
      "source": [
        "# 414번 유저가 가장 좋아하지 않는 (계수가 작은) Adventure 장르의 히스토그램\n",
        "user414.loc[user414['Children'] == 1, 'rating'].hist()\n",
        "# 1점, 2점이 비교적 많다"
      ],
      "metadata": {
        "colab": {
          "base_uri": "https://localhost:8080/",
          "height": 447
        },
        "id": "vTMcKoJqMZEo",
        "outputId": "206dcf5c-104c-4bad-84e1-5ac275328fe2"
      },
      "execution_count": 181,
      "outputs": [
        {
          "output_type": "execute_result",
          "data": {
            "text/plain": [
              "<Axes: >"
            ]
          },
          "metadata": {},
          "execution_count": 181
        },
        {
          "output_type": "display_data",
          "data": {
            "text/plain": [
              "<Figure size 640x480 with 1 Axes>"
            ],
            "image/png": "[encoded data removed]"
          },
          "metadata": {}
        }
      ]
    },
    {
      "cell_type": "code",
      "source": [
        "# 414번 유저가 가장 좋아하는 (계수가 큰) War 장르의 히스토그램\n",
        "user414.loc[user414['War'] == 1, 'rating'].hist()\n",
        "# 4, 5점이 많다"
      ],
      "metadata": {
        "colab": {
          "base_uri": "https://localhost:8080/",
          "height": 447
        },
        "id": "NmQsvWooNB4W",
        "outputId": "26682f13-c503-4595-a2b0-c7fc8952c7c4"
      },
      "execution_count": 182,
      "outputs": [
        {
          "output_type": "execute_result",
          "data": {
            "text/plain": [
              "<Axes: >"
            ]
          },
          "metadata": {},
          "execution_count": 182
        },
        {
          "output_type": "display_data",
          "data": {
            "text/plain": [
              "<Figure size 640x480 with 1 Axes>"
            ],
            "image/png": "[encoded data removed]"
          },
          "metadata": {}
        }
      ]
    },
    {
      "cell_type": "code",
      "source": [
        "# 예측하기 (X_test 값으로 예측 진행)\n",
        "predict = reg.predict(X_test)\n",
        "# predict"
      ],
      "metadata": {
        "id": "fPhUBzYmNPFj"
      },
      "execution_count": 183,
      "outputs": []
    },
    {
      "cell_type": "code",
      "source": [
        "# 모델 평가\n",
        "from sklearn.metrics import mean_squared_error"
      ],
      "metadata": {
        "id": "iFWggq3eNG3v"
      },
      "execution_count": 184,
      "outputs": []
    },
    {
      "cell_type": "code",
      "source": [
        "mse = mean_squared_error(y_test, predict)\n",
        "rmse = np.sqrt(mse)\n",
        "rmse\n",
        "# 성능이 굉장히 좋아졌다 (간단한 추천, CB v1보다도)\n",
        "# 다만 전체적으로 확장했을 때에 성능이 약간 떨어진다"
      ],
      "metadata": {
        "colab": {
          "base_uri": "https://localhost:8080/"
        },
        "id": "rEc45QThNpRI",
        "outputId": "e5395d6f-cd22-4719-85ce-def872620d8c"
      },
      "execution_count": 185,
      "outputs": [
        {
          "output_type": "execute_result",
          "data": {
            "text/plain": [
              "0.8764429330252587"
            ]
          },
          "metadata": {},
          "execution_count": 185
        }
      ]
    },
    {
      "cell_type": "markdown",
      "source": [
        "# 전체 유저의 프로필 만들기"
      ],
      "metadata": {
        "id": "bHf-qRSEONaF"
      }
    },
    {
      "cell_type": "code",
      "source": [
        "# ratings = ratings + genres 정보\n",
        "ratings = ratings.merge(genres, left_on='movieId', right_index=True)\n",
        "ratings.sample()"
      ],
      "metadata": {
        "colab": {
          "base_uri": "https://localhost:8080/",
          "height": 224
        },
        "id": "ZrFCnHYBN8gl",
        "outputId": "84cbd1e9-441b-4ab4-ad0d-6032a40d9b5f"
      },
      "execution_count": 186,
      "outputs": [
        {
          "output_type": "execute_result",
          "data": {
            "text/plain": [
              "       userId  movieId   rating           timestamp  (no genres listed)  \\\n",
              "10833      68     2987 2.500000 2006-09-17 22:26:34                   0   \n",
              "\n",
              "       Action  Adventure  Animation  Children  Comedy  ...  Film-Noir  Horror  \\\n",
              "10833       0          1          1         1       1  ...          0       0   \n",
              "\n",
              "       IMAX  Musical  Mystery  Romance  Sci-Fi  Thriller  War  Western  \n",
              "10833     0        0        1        0       0         0    0        0  \n",
              "\n",
              "[1 rows x 24 columns]"
            ],
            "text/html": [
              "\n",
              "  <div id=\"df-e03c8302-9074-4808-a2d3-7ee829f08b30\">\n",
              "    <div class=\"colab-df-container\">\n",
              "      <div>\n",
              "<style scoped>\n",
              "    .dataframe tbody tr th:only-of-type {\n",
              "        vertical-align: middle;\n",
              "    }\n",
              "\n",
              "    .dataframe tbody tr th {\n",
              "        vertical-align: top;\n",
              "    }\n",
              "\n",
              "    .dataframe thead th {\n",
              "        text-align: right;\n",
              "    }\n",
              "</style>\n",
              "<table border=\"1\" class=\"dataframe\">\n",
              "  <thead>\n",
              "    <tr style=\"text-align: right;\">\n",
              "      <th></th>\n",
              "      <th>userId</th>\n",
              "      <th>movieId</th>\n",
              "      <th>rating</th>\n",
              "      <th>timestamp</th>\n",
              "      <th>(no genres listed)</th>\n",
              "      <th>Action</th>\n",
              "      <th>Adventure</th>\n",
              "      <th>Animation</th>\n",
              "      <th>Children</th>\n",
              "      <th>Comedy</th>\n",
              "      <th>...</th>\n",
              "      <th>Film-Noir</th>\n",
              "      <th>Horror</th>\n",
              "      <th>IMAX</th>\n",
              "      <th>Musical</th>\n",
              "      <th>Mystery</th>\n",
              "      <th>Romance</th>\n",
              "      <th>Sci-Fi</th>\n",
              "      <th>Thriller</th>\n",
              "      <th>War</th>\n",
              "      <th>Western</th>\n",
              "    </tr>\n",
              "  </thead>\n",
              "  <tbody>\n",
              "    <tr>\n",
              "      <th>10833</th>\n",
              "      <td>68</td>\n",
              "      <td>2987</td>\n",
              "      <td>2.500000</td>\n",
              "      <td>2006-09-17 22:26:34</td>\n",
              "      <td>0</td>\n",
              "      <td>0</td>\n",
              "      <td>1</td>\n",
              "      <td>1</td>\n",
              "      <td>1</td>\n",
              "      <td>1</td>\n",
              "      <td>...</td>\n",
              "      <td>0</td>\n",
              "      <td>0</td>\n",
              "      <td>0</td>\n",
              "      <td>0</td>\n",
              "      <td>1</td>\n",
              "      <td>0</td>\n",
              "      <td>0</td>\n",
              "      <td>0</td>\n",
              "      <td>0</td>\n",
              "      <td>0</td>\n",
              "    </tr>\n",
              "  </tbody>\n",
              "</table>\n",
              "<p>1 rows × 24 columns</p>\n",
              "</div>\n",
              "      <button class=\"colab-df-convert\" onclick=\"convertToInteractive('df-e03c8302-9074-4808-a2d3-7ee829f08b30')\"\n",
              "              title=\"Convert this dataframe to an interactive table.\"\n",
              "              style=\"display:none;\">\n",
              "        \n",
              "  <svg xmlns=\"http://www.w3.org/2000/svg\" height=\"24px\"viewBox=\"0 0 24 24\"\n",
              "       width=\"24px\">\n",
              "    <path d=\"M0 0h24v24H0V0z\" fill=\"none\"/>\n",
              "    <path d=\"M18.56 5.44l.94 2.06.94-2.06 2.06-.94-2.06-.94-.94-2.06-.94 2.06-2.06.94zm-11 1L8.5 8.5l.94-2.06 2.06-.94-2.06-.94L8.5 2.5l-.94 2.06-2.06.94zm10 10l.94 2.06.94-2.06 2.06-.94-2.06-.94-.94-2.06-.94 2.06-2.06.94z\"/><path d=\"M17.41 7.96l-1.37-1.37c-.4-.4-.92-.59-1.43-.59-.52 0-1.04.2-1.43.59L10.3 9.45l-7.72 7.72c-.78.78-.78 2.05 0 2.83L4 21.41c.39.39.9.59 1.41.59.51 0 1.02-.2 1.41-.59l7.78-7.78 2.81-2.81c.8-.78.8-2.07 0-2.86zM5.41 20L4 18.59l7.72-7.72 1.47 1.35L5.41 20z\"/>\n",
              "  </svg>\n",
              "      </button>\n",
              "      \n",
              "  <style>\n",
              "    .colab-df-container {\n",
              "      display:flex;\n",
              "      flex-wrap:wrap;\n",
              "      gap: 12px;\n",
              "    }\n",
              "\n",
              "    .colab-df-convert {\n",
              "      background-color: #E8F0FE;\n",
              "      border: none;\n",
              "      border-radius: 50%;\n",
              "      cursor: pointer;\n",
              "      display: none;\n",
              "      fill: #1967D2;\n",
              "      height: 32px;\n",
              "      padding: 0 0 0 0;\n",
              "      width: 32px;\n",
              "    }\n",
              "\n",
              "    .colab-df-convert:hover {\n",
              "      background-color: #E2EBFA;\n",
              "      box-shadow: 0px 1px 2px rgba(60, 64, 67, 0.3), 0px 1px 3px 1px rgba(60, 64, 67, 0.15);\n",
              "      fill: #174EA6;\n",
              "    }\n",
              "\n",
              "    [theme=dark] .colab-df-convert {\n",
              "      background-color: #3B4455;\n",
              "      fill: #D2E3FC;\n",
              "    }\n",
              "\n",
              "    [theme=dark] .colab-df-convert:hover {\n",
              "      background-color: #434B5C;\n",
              "      box-shadow: 0px 1px 3px 1px rgba(0, 0, 0, 0.15);\n",
              "      filter: drop-shadow(0px 1px 2px rgba(0, 0, 0, 0.3));\n",
              "      fill: #FFFFFF;\n",
              "    }\n",
              "  </style>\n",
              "\n",
              "      <script>\n",
              "        const buttonEl =\n",
              "          document.querySelector('#df-e03c8302-9074-4808-a2d3-7ee829f08b30 button.colab-df-convert');\n",
              "        buttonEl.style.display =\n",
              "          google.colab.kernel.accessAllowed ? 'block' : 'none';\n",
              "\n",
              "        async function convertToInteractive(key) {\n",
              "          const element = document.querySelector('#df-e03c8302-9074-4808-a2d3-7ee829f08b30');\n",
              "          const dataTable =\n",
              "            await google.colab.kernel.invokeFunction('convertToInteractive',\n",
              "                                                     [key], {});\n",
              "          if (!dataTable) return;\n",
              "\n",
              "          const docLinkHtml = 'Like what you see? Visit the ' +\n",
              "            '<a target=\"_blank\" href=https://colab.research.google.com/notebooks/data_table.ipynb>data table notebook</a>'\n",
              "            + ' to learn more about interactive tables.';\n",
              "          element.innerHTML = '';\n",
              "          dataTable['output_type'] = 'display_data';\n",
              "          await google.colab.output.renderOutput(dataTable, element);\n",
              "          const docLink = document.createElement('div');\n",
              "          docLink.innerHTML = docLinkHtml;\n",
              "          element.appendChild(docLink);\n",
              "        }\n",
              "      </script>\n",
              "    </div>\n",
              "  </div>\n",
              "  "
            ]
          },
          "metadata": {},
          "execution_count": 186
        }
      ]
    },
    {
      "cell_type": "code",
      "source": [
        "train, test = train_test_split(ratings, random_state=42, test_size=.1)"
      ],
      "metadata": {
        "id": "nBRP4iDZPoWh"
      },
      "execution_count": 187,
      "outputs": []
    },
    {
      "cell_type": "code",
      "source": [
        "# user profile 만들기 (유저의 평점 정보)\n",
        "# 각 유저마다 유저 프로필 만들고, X, y 나누고, 모델 학습하여 regression 절편, 계수 저장\n",
        "user_profile_list = [] # 전체 유저 프로필 리스트\n",
        "\n",
        "for userId in train['userId'].unique():\n",
        "  user = train[train['userId'] == userId]\n",
        "  X_train = user[genres.columns] # feature, X: rating을 예측하는데 도움이 되는 정보. 장르 정보\n",
        "  y_train = user['rating'] # label, y: 정답 columns. 최종적으로 영화가 몇 점을 받았는지\n",
        "  \n",
        "  # 모델 학습\n",
        "  reg = LinearRegression()\n",
        "  reg.fit(X_train, y_train)\n",
        "\n",
        "  # * : 리스트를 flatten하게 만들어주는 파이썬의 기능\n",
        "  user_profile_list.append([reg.intercept_, *reg.coef_])"
      ],
      "metadata": {
        "id": "yfFJr58VP0A1"
      },
      "execution_count": 188,
      "outputs": []
    },
    {
      "cell_type": "code",
      "source": [
        "# 보기 쉽게끔 list -> 표\n",
        "user_profile= pd.DataFrame(user_profile_list,\n",
        "                           index=train['userId'].unique(), \n",
        "                           columns=['intercept', *genres.columns])"
      ],
      "metadata": {
        "id": "zA0P-wGQP-xn"
      },
      "execution_count": 189,
      "outputs": []
    },
    {
      "cell_type": "code",
      "source": [
        "# 유저 프로필의 값 실수형 형태로 포맷\n",
        "pd.set_option('float_format', '{:f}'.format)"
      ],
      "metadata": {
        "id": "wxyBpAtEWJhk"
      },
      "execution_count": 190,
      "outputs": []
    },
    {
      "cell_type": "code",
      "source": [
        "user_profile\n",
        "# 37번 유저: intercept 4.5-> 평균적으로 점수 높게 주는 사람. Romance 장르는 좋아하지 않고 IMAX 장르는 좋아한다"
      ],
      "metadata": {
        "colab": {
          "base_uri": "https://localhost:8080/",
          "height": 517
        },
        "id": "BLjtT3zsVh-Z",
        "outputId": "5b458fb3-238f-4702-94a9-81f68ad54c47"
      },
      "execution_count": 191,
      "outputs": [
        {
          "output_type": "execute_result",
          "data": {
            "text/plain": [
              "     intercept  (no genres listed)    Action  Adventure  Animation  Children  \\\n",
              "249   3.693115            0.000000  0.027411   0.027242   0.412653 -0.314130   \n",
              "354   3.828023            0.000000  0.029733  -0.282522  -0.496069  0.273568   \n",
              "339   3.904740            0.000000 -0.366817   0.072025   0.978452 -0.667841   \n",
              "448   2.572435           -1.322435 -0.169011   0.276746   0.444943 -0.057458   \n",
              "610   3.625384            0.000000 -0.153395   0.144457   0.324515 -0.321501   \n",
              "..         ...                 ...       ...        ...        ...       ...   \n",
              "92    3.820713            0.000000 -0.644766   1.410913   0.059020 -1.115813   \n",
              "37    4.577049            0.000000 -0.219672  -0.560656   0.065574 -0.360656   \n",
              "547   3.662202            0.000000 -0.273810  -0.000000   0.000000  0.000000   \n",
              "106   5.611746            0.000000 -0.121911  -1.171253   0.146282 -0.991482   \n",
              "439   3.849711            0.000000 -0.384393   0.210983  -1.421965 -1.421965   \n",
              "\n",
              "       Comedy     Crime  Documentary     Drama  ...  Film-Noir    Horror  \\\n",
              "249 -0.209777  0.189618     0.107383  0.251325  ...   0.669763 -0.256916   \n",
              "354 -0.310819  0.305351     0.377534 -0.100294  ...   0.923666 -0.012373   \n",
              "339 -0.085153  0.315882     0.182522  0.226018  ...  -0.016215  0.041993   \n",
              "448  0.231763  0.130456     1.284327  0.284642  ...   0.835523 -0.538456   \n",
              "610  0.045694  0.160650     0.565478  0.286862  ...   0.407013 -0.080522   \n",
              "..        ...       ...          ...       ...  ...        ...       ...   \n",
              "92   0.824053 -0.051782     0.000000 -0.428731  ...   0.000000  0.303452   \n",
              "37   0.504918 -0.449180     0.000000 -0.396721  ...   0.000000  0.750820   \n",
              "547  1.084821 -0.159226    -0.331101  0.011905  ...   0.241071  0.000000   \n",
              "106  0.104343 -0.076348     0.000000 -0.663918  ...  -0.000000 -0.291227   \n",
              "439  3.049133  0.367052     0.150289  0.650289  ...   0.000000  0.000000   \n",
              "\n",
              "         IMAX   Musical   Mystery   Romance    Sci-Fi  Thriller       War  \\\n",
              "249 -0.012565  0.144540  0.138326  0.001223  0.125803 -0.212086 -0.012097   \n",
              "354 -0.839618 -0.086879  0.133467  0.322991  0.101596 -0.070762  0.050920   \n",
              "339 -0.468748 -0.953067  0.086651  0.225394  0.124264  0.177113  0.248110   \n",
              "448 -0.125718  0.445639  0.040435 -0.136866 -0.050382  0.049274  0.334096   \n",
              "610  0.020032  0.198447  0.062292 -0.083236  0.103000 -0.146788  0.029765   \n",
              "..        ...       ...       ...       ...       ...       ...       ...   \n",
              "92   0.000000 -0.047884  0.375835 -0.178174 -0.500000 -0.124165 -0.802895   \n",
              "37   1.380328 -0.360656  0.000000 -2.422951  0.104918  0.121311  0.000000   \n",
              "547  0.000000 -0.331101  0.325893  1.205357  1.630952 -0.226190 -1.639881   \n",
              "106  0.051387  0.000000 -0.102279 -0.000000 -0.824231 -0.182688  0.000000   \n",
              "439 -1.219653  0.000000  0.000000 -2.433526  0.167630  0.800578 -0.115607   \n",
              "\n",
              "      Western  \n",
              "249  0.355897  \n",
              "354 -0.097735  \n",
              "339  0.307574  \n",
              "448  0.678348  \n",
              "610  0.092105  \n",
              "..        ...  \n",
              "92   0.000000  \n",
              "37   0.380328  \n",
              "547  0.000000  \n",
              "106  0.000000  \n",
              "439  0.000000  \n",
              "\n",
              "[612 rows x 21 columns]"
            ],
            "text/html": [
              "\n",
              "  <div id=\"df-ecf6c32e-425d-4d2e-9a2c-8dbb657329d0\">\n",
              "    <div class=\"colab-df-container\">\n",
              "      <div>\n",
              "<style scoped>\n",
              "    .dataframe tbody tr th:only-of-type {\n",
              "        vertical-align: middle;\n",
              "    }\n",
              "\n",
              "    .dataframe tbody tr th {\n",
              "        vertical-align: top;\n",
              "    }\n",
              "\n",
              "    .dataframe thead th {\n",
              "        text-align: right;\n",
              "    }\n",
              "</style>\n",
              "<table border=\"1\" class=\"dataframe\">\n",
              "  <thead>\n",
              "    <tr style=\"text-align: right;\">\n",
              "      <th></th>\n",
              "      <th>intercept</th>\n",
              "      <th>(no genres listed)</th>\n",
              "      <th>Action</th>\n",
              "      <th>Adventure</th>\n",
              "      <th>Animation</th>\n",
              "      <th>Children</th>\n",
              "      <th>Comedy</th>\n",
              "      <th>Crime</th>\n",
              "      <th>Documentary</th>\n",
              "      <th>Drama</th>\n",
              "      <th>...</th>\n",
              "      <th>Film-Noir</th>\n",
              "      <th>Horror</th>\n",
              "      <th>IMAX</th>\n",
              "      <th>Musical</th>\n",
              "      <th>Mystery</th>\n",
              "      <th>Romance</th>\n",
              "      <th>Sci-Fi</th>\n",
              "      <th>Thriller</th>\n",
              "      <th>War</th>\n",
              "      <th>Western</th>\n",
              "    </tr>\n",
              "  </thead>\n",
              "  <tbody>\n",
              "    <tr>\n",
              "      <th>249</th>\n",
              "      <td>3.693115</td>\n",
              "      <td>0.000000</td>\n",
              "      <td>0.027411</td>\n",
              "      <td>0.027242</td>\n",
              "      <td>0.412653</td>\n",
              "      <td>-0.314130</td>\n",
              "      <td>-0.209777</td>\n",
              "      <td>0.189618</td>\n",
              "      <td>0.107383</td>\n",
              "      <td>0.251325</td>\n",
              "      <td>...</td>\n",
              "      <td>0.669763</td>\n",
              "      <td>-0.256916</td>\n",
              "      <td>-0.012565</td>\n",
              "      <td>0.144540</td>\n",
              "      <td>0.138326</td>\n",
              "      <td>0.001223</td>\n",
              "      <td>0.125803</td>\n",
              "      <td>-0.212086</td>\n",
              "      <td>-0.012097</td>\n",
              "      <td>0.355897</td>\n",
              "    </tr>\n",
              "    <tr>\n",
              "      <th>354</th>\n",
              "      <td>3.828023</td>\n",
              "      <td>0.000000</td>\n",
              "      <td>0.029733</td>\n",
              "      <td>-0.282522</td>\n",
              "      <td>-0.496069</td>\n",
              "      <td>0.273568</td>\n",
              "      <td>-0.310819</td>\n",
              "      <td>0.305351</td>\n",
              "      <td>0.377534</td>\n",
              "      <td>-0.100294</td>\n",
              "      <td>...</td>\n",
              "      <td>0.923666</td>\n",
              "      <td>-0.012373</td>\n",
              "      <td>-0.839618</td>\n",
              "      <td>-0.086879</td>\n",
              "      <td>0.133467</td>\n",
              "      <td>0.322991</td>\n",
              "      <td>0.101596</td>\n",
              "      <td>-0.070762</td>\n",
              "      <td>0.050920</td>\n",
              "      <td>-0.097735</td>\n",
              "    </tr>\n",
              "    <tr>\n",
              "      <th>339</th>\n",
              "      <td>3.904740</td>\n",
              "      <td>0.000000</td>\n",
              "      <td>-0.366817</td>\n",
              "      <td>0.072025</td>\n",
              "      <td>0.978452</td>\n",
              "      <td>-0.667841</td>\n",
              "      <td>-0.085153</td>\n",
              "      <td>0.315882</td>\n",
              "      <td>0.182522</td>\n",
              "      <td>0.226018</td>\n",
              "      <td>...</td>\n",
              "      <td>-0.016215</td>\n",
              "      <td>0.041993</td>\n",
              "      <td>-0.468748</td>\n",
              "      <td>-0.953067</td>\n",
              "      <td>0.086651</td>\n",
              "      <td>0.225394</td>\n",
              "      <td>0.124264</td>\n",
              "      <td>0.177113</td>\n",
              "      <td>0.248110</td>\n",
              "      <td>0.307574</td>\n",
              "    </tr>\n",
              "    <tr>\n",
              "      <th>448</th>\n",
              "      <td>2.572435</td>\n",
              "      <td>-1.322435</td>\n",
              "      <td>-0.169011</td>\n",
              "      <td>0.276746</td>\n",
              "      <td>0.444943</td>\n",
              "      <td>-0.057458</td>\n",
              "      <td>0.231763</td>\n",
              "      <td>0.130456</td>\n",
              "      <td>1.284327</td>\n",
              "      <td>0.284642</td>\n",
              "      <td>...</td>\n",
              "      <td>0.835523</td>\n",
              "      <td>-0.538456</td>\n",
              "      <td>-0.125718</td>\n",
              "      <td>0.445639</td>\n",
              "      <td>0.040435</td>\n",
              "      <td>-0.136866</td>\n",
              "      <td>-0.050382</td>\n",
              "      <td>0.049274</td>\n",
              "      <td>0.334096</td>\n",
              "      <td>0.678348</td>\n",
              "    </tr>\n",
              "    <tr>\n",
              "      <th>610</th>\n",
              "      <td>3.625384</td>\n",
              "      <td>0.000000</td>\n",
              "      <td>-0.153395</td>\n",
              "      <td>0.144457</td>\n",
              "      <td>0.324515</td>\n",
              "      <td>-0.321501</td>\n",
              "      <td>0.045694</td>\n",
              "      <td>0.160650</td>\n",
              "      <td>0.565478</td>\n",
              "      <td>0.286862</td>\n",
              "      <td>...</td>\n",
              "      <td>0.407013</td>\n",
              "      <td>-0.080522</td>\n",
              "      <td>0.020032</td>\n",
              "      <td>0.198447</td>\n",
              "      <td>0.062292</td>\n",
              "      <td>-0.083236</td>\n",
              "      <td>0.103000</td>\n",
              "      <td>-0.146788</td>\n",
              "      <td>0.029765</td>\n",
              "      <td>0.092105</td>\n",
              "    </tr>\n",
              "    <tr>\n",
              "      <th>...</th>\n",
              "      <td>...</td>\n",
              "      <td>...</td>\n",
              "      <td>...</td>\n",
              "      <td>...</td>\n",
              "      <td>...</td>\n",
              "      <td>...</td>\n",
              "      <td>...</td>\n",
              "      <td>...</td>\n",
              "      <td>...</td>\n",
              "      <td>...</td>\n",
              "      <td>...</td>\n",
              "      <td>...</td>\n",
              "      <td>...</td>\n",
              "      <td>...</td>\n",
              "      <td>...</td>\n",
              "      <td>...</td>\n",
              "      <td>...</td>\n",
              "      <td>...</td>\n",
              "      <td>...</td>\n",
              "      <td>...</td>\n",
              "      <td>...</td>\n",
              "    </tr>\n",
              "    <tr>\n",
              "      <th>92</th>\n",
              "      <td>3.820713</td>\n",
              "      <td>0.000000</td>\n",
              "      <td>-0.644766</td>\n",
              "      <td>1.410913</td>\n",
              "      <td>0.059020</td>\n",
              "      <td>-1.115813</td>\n",
              "      <td>0.824053</td>\n",
              "      <td>-0.051782</td>\n",
              "      <td>0.000000</td>\n",
              "      <td>-0.428731</td>\n",
              "      <td>...</td>\n",
              "      <td>0.000000</td>\n",
              "      <td>0.303452</td>\n",
              "      <td>0.000000</td>\n",
              "      <td>-0.047884</td>\n",
              "      <td>0.375835</td>\n",
              "      <td>-0.178174</td>\n",
              "      <td>-0.500000</td>\n",
              "      <td>-0.124165</td>\n",
              "      <td>-0.802895</td>\n",
              "      <td>0.000000</td>\n",
              "    </tr>\n",
              "    <tr>\n",
              "      <th>37</th>\n",
              "      <td>4.577049</td>\n",
              "      <td>0.000000</td>\n",
              "      <td>-0.219672</td>\n",
              "      <td>-0.560656</td>\n",
              "      <td>0.065574</td>\n",
              "      <td>-0.360656</td>\n",
              "      <td>0.504918</td>\n",
              "      <td>-0.449180</td>\n",
              "      <td>0.000000</td>\n",
              "      <td>-0.396721</td>\n",
              "      <td>...</td>\n",
              "      <td>0.000000</td>\n",
              "      <td>0.750820</td>\n",
              "      <td>1.380328</td>\n",
              "      <td>-0.360656</td>\n",
              "      <td>0.000000</td>\n",
              "      <td>-2.422951</td>\n",
              "      <td>0.104918</td>\n",
              "      <td>0.121311</td>\n",
              "      <td>0.000000</td>\n",
              "      <td>0.380328</td>\n",
              "    </tr>\n",
              "    <tr>\n",
              "      <th>547</th>\n",
              "      <td>3.662202</td>\n",
              "      <td>0.000000</td>\n",
              "      <td>-0.273810</td>\n",
              "      <td>-0.000000</td>\n",
              "      <td>0.000000</td>\n",
              "      <td>0.000000</td>\n",
              "      <td>1.084821</td>\n",
              "      <td>-0.159226</td>\n",
              "      <td>-0.331101</td>\n",
              "      <td>0.011905</td>\n",
              "      <td>...</td>\n",
              "      <td>0.241071</td>\n",
              "      <td>0.000000</td>\n",
              "      <td>0.000000</td>\n",
              "      <td>-0.331101</td>\n",
              "      <td>0.325893</td>\n",
              "      <td>1.205357</td>\n",
              "      <td>1.630952</td>\n",
              "      <td>-0.226190</td>\n",
              "      <td>-1.639881</td>\n",
              "      <td>0.000000</td>\n",
              "    </tr>\n",
              "    <tr>\n",
              "      <th>106</th>\n",
              "      <td>5.611746</td>\n",
              "      <td>0.000000</td>\n",
              "      <td>-0.121911</td>\n",
              "      <td>-1.171253</td>\n",
              "      <td>0.146282</td>\n",
              "      <td>-0.991482</td>\n",
              "      <td>0.104343</td>\n",
              "      <td>-0.076348</td>\n",
              "      <td>0.000000</td>\n",
              "      <td>-0.663918</td>\n",
              "      <td>...</td>\n",
              "      <td>-0.000000</td>\n",
              "      <td>-0.291227</td>\n",
              "      <td>0.051387</td>\n",
              "      <td>0.000000</td>\n",
              "      <td>-0.102279</td>\n",
              "      <td>-0.000000</td>\n",
              "      <td>-0.824231</td>\n",
              "      <td>-0.182688</td>\n",
              "      <td>0.000000</td>\n",
              "      <td>0.000000</td>\n",
              "    </tr>\n",
              "    <tr>\n",
              "      <th>439</th>\n",
              "      <td>3.849711</td>\n",
              "      <td>0.000000</td>\n",
              "      <td>-0.384393</td>\n",
              "      <td>0.210983</td>\n",
              "      <td>-1.421965</td>\n",
              "      <td>-1.421965</td>\n",
              "      <td>3.049133</td>\n",
              "      <td>0.367052</td>\n",
              "      <td>0.150289</td>\n",
              "      <td>0.650289</td>\n",
              "      <td>...</td>\n",
              "      <td>0.000000</td>\n",
              "      <td>0.000000</td>\n",
              "      <td>-1.219653</td>\n",
              "      <td>0.000000</td>\n",
              "      <td>0.000000</td>\n",
              "      <td>-2.433526</td>\n",
              "      <td>0.167630</td>\n",
              "      <td>0.800578</td>\n",
              "      <td>-0.115607</td>\n",
              "      <td>0.000000</td>\n",
              "    </tr>\n",
              "  </tbody>\n",
              "</table>\n",
              "<p>612 rows × 21 columns</p>\n",
              "</div>\n",
              "      <button class=\"colab-df-convert\" onclick=\"convertToInteractive('df-ecf6c32e-425d-4d2e-9a2c-8dbb657329d0')\"\n",
              "              title=\"Convert this dataframe to an interactive table.\"\n",
              "              style=\"display:none;\">\n",
              "        \n",
              "  <svg xmlns=\"http://www.w3.org/2000/svg\" height=\"24px\"viewBox=\"0 0 24 24\"\n",
              "       width=\"24px\">\n",
              "    <path d=\"M0 0h24v24H0V0z\" fill=\"none\"/>\n",
              "    <path d=\"M18.56 5.44l.94 2.06.94-2.06 2.06-.94-2.06-.94-.94-2.06-.94 2.06-2.06.94zm-11 1L8.5 8.5l.94-2.06 2.06-.94-2.06-.94L8.5 2.5l-.94 2.06-2.06.94zm10 10l.94 2.06.94-2.06 2.06-.94-2.06-.94-.94-2.06-.94 2.06-2.06.94z\"/><path d=\"M17.41 7.96l-1.37-1.37c-.4-.4-.92-.59-1.43-.59-.52 0-1.04.2-1.43.59L10.3 9.45l-7.72 7.72c-.78.78-.78 2.05 0 2.83L4 21.41c.39.39.9.59 1.41.59.51 0 1.02-.2 1.41-.59l7.78-7.78 2.81-2.81c.8-.78.8-2.07 0-2.86zM5.41 20L4 18.59l7.72-7.72 1.47 1.35L5.41 20z\"/>\n",
              "  </svg>\n",
              "      </button>\n",
              "      \n",
              "  <style>\n",
              "    .colab-df-container {\n",
              "      display:flex;\n",
              "      flex-wrap:wrap;\n",
              "      gap: 12px;\n",
              "    }\n",
              "\n",
              "    .colab-df-convert {\n",
              "      background-color: #E8F0FE;\n",
              "      border: none;\n",
              "      border-radius: 50%;\n",
              "      cursor: pointer;\n",
              "      display: none;\n",
              "      fill: #1967D2;\n",
              "      height: 32px;\n",
              "      padding: 0 0 0 0;\n",
              "      width: 32px;\n",
              "    }\n",
              "\n",
              "    .colab-df-convert:hover {\n",
              "      background-color: #E2EBFA;\n",
              "      box-shadow: 0px 1px 2px rgba(60, 64, 67, 0.3), 0px 1px 3px 1px rgba(60, 64, 67, 0.15);\n",
              "      fill: #174EA6;\n",
              "    }\n",
              "\n",
              "    [theme=dark] .colab-df-convert {\n",
              "      background-color: #3B4455;\n",
              "      fill: #D2E3FC;\n",
              "    }\n",
              "\n",
              "    [theme=dark] .colab-df-convert:hover {\n",
              "      background-color: #434B5C;\n",
              "      box-shadow: 0px 1px 3px 1px rgba(0, 0, 0, 0.15);\n",
              "      filter: drop-shadow(0px 1px 2px rgba(0, 0, 0, 0.3));\n",
              "      fill: #FFFFFF;\n",
              "    }\n",
              "  </style>\n",
              "\n",
              "      <script>\n",
              "        const buttonEl =\n",
              "          document.querySelector('#df-ecf6c32e-425d-4d2e-9a2c-8dbb657329d0 button.colab-df-convert');\n",
              "        buttonEl.style.display =\n",
              "          google.colab.kernel.accessAllowed ? 'block' : 'none';\n",
              "\n",
              "        async function convertToInteractive(key) {\n",
              "          const element = document.querySelector('#df-ecf6c32e-425d-4d2e-9a2c-8dbb657329d0');\n",
              "          const dataTable =\n",
              "            await google.colab.kernel.invokeFunction('convertToInteractive',\n",
              "                                                     [key], {});\n",
              "          if (!dataTable) return;\n",
              "\n",
              "          const docLinkHtml = 'Like what you see? Visit the ' +\n",
              "            '<a target=\"_blank\" href=https://colab.research.google.com/notebooks/data_table.ipynb>data table notebook</a>'\n",
              "            + ' to learn more about interactive tables.';\n",
              "          element.innerHTML = '';\n",
              "          dataTable['output_type'] = 'display_data';\n",
              "          await google.colab.output.renderOutput(dataTable, element);\n",
              "          const docLink = document.createElement('div');\n",
              "          docLink.innerHTML = docLinkHtml;\n",
              "          element.appendChild(docLink);\n",
              "        }\n",
              "      </script>\n",
              "    </div>\n",
              "  </div>\n",
              "  "
            ]
          },
          "metadata": {},
          "execution_count": 191
        }
      ]
    },
    {
      "cell_type": "code",
      "source": [
        "# My user profile 확인해보기 \n",
        "user_profile.loc[1000]"
      ],
      "metadata": {
        "colab": {
          "base_uri": "https://localhost:8080/"
        },
        "id": "iWMbz-8IvR_f",
        "outputId": "6d6a7624-2912-4c80-9abd-7b8ac5236775"
      },
      "execution_count": 192,
      "outputs": [
        {
          "output_type": "execute_result",
          "data": {
            "text/plain": [
              "intercept             4.650000\n",
              "(no genres listed)    0.000000\n",
              "Action               -0.025000\n",
              "Adventure            -0.350000\n",
              "Animation            -0.325000\n",
              "Children              0.000000\n",
              "Comedy               -1.000000\n",
              "Crime                 0.000000\n",
              "Documentary           0.000000\n",
              "Drama                 0.350000\n",
              "Fantasy              -0.325000\n",
              "Film-Noir             0.000000\n",
              "Horror                0.000000\n",
              "IMAX                  0.000000\n",
              "Musical              -0.325000\n",
              "Mystery               0.000000\n",
              "Romance              -0.325000\n",
              "Sci-Fi               -0.025000\n",
              "Thriller              0.000000\n",
              "War                   0.000000\n",
              "Western               0.000000\n",
              "Name: 1000, dtype: float64"
            ]
          },
          "metadata": {},
          "execution_count": 192
        }
      ]
    },
    {
      "cell_type": "markdown",
      "source": [
        "# 전체 유저의 평점 예측과 모델 평가"
      ],
      "metadata": {
        "id": "5aT-LtwVYIdO"
      }
    },
    {
      "cell_type": "code",
      "source": [
        "# for문의 진행 과정 시각적으로 보여주는 패키지\n",
        "from tqdm import tqdm_notebook"
      ],
      "metadata": {
        "id": "oHNku__V4dIU"
      },
      "execution_count": 193,
      "outputs": []
    },
    {
      "cell_type": "code",
      "source": [
        "# LinearRegression의 predict 함수를 사용하지 않고, 직접 intercept와 장르 점수를 더해서 예측하는 방법\n",
        "# test 행에는 특정 영화가 속하는 장르가 0, 1로 표현되어 있음\n",
        "# user profile 행에서는 절편과 장르에 따른 계수가 저장되어 있음\n",
        "# 특정 영화에 평점을 예측하려면 이 계산 필요: 절편 + 영화가 속하는 장르(1) * 장르에 따른 계수\n",
        "\n",
        "predict = []\n",
        "\n",
        "for idx, row in tqdm_notebook(test.iterrows()):\n",
        "  user = row['userId'] # test row의 user\n",
        "  intercept = user_profile.loc[user, 'intercept'] #해당 user의 user_profile에서 intercept\n",
        "  genre_score = sum(user_profile.loc[user, genres.columns] * row[genres.columns]) #해당 movie의 장르에서 비롯되는 예상 평점\n",
        "  expected_score = intercept + genre_score\n",
        "  predict.append(expected_score)"
      ],
      "metadata": {
        "colab": {
          "base_uri": "https://localhost:8080/",
          "height": 49,
          "referenced_widgets": [
            "c0f032e5a0b2498fb5a615391f2fc2bd",
            "db0fd82154c649a7b1432c6179016eb6",
            "68a41b9da1964b24acb1d69e82b25de7",
            "bec05163a4834c10bbc689dafdcc8bc0",
            "bc5df0a033314f899a979be6f73dcf75",
            "116d423d80bf4d88b6f3cb50589e3512",
            "ea12fbc57fb345e89dbfc39d93d15faa",
            "c9ca08ddd4e346b1a5a9fcf28ff4877c",
            "f47f6451bac0405aa99e5f62b9569e67",
            "d3956faca83149d8a0a7a29d47115015",
            "c8ab7123d01440d8b5f77a0a9983e4c4"
          ]
        },
        "id": "cOWzx7R-zGW-",
        "outputId": "b958513a-159a-442a-fef7-8bebbf30dbad"
      },
      "execution_count": 194,
      "outputs": [
        {
          "output_type": "display_data",
          "data": {
            "text/plain": [
              "0it [00:00, ?it/s]"
            ],
            "application/vnd.jupyter.widget-view+json": {
              "version_major": 2,
              "version_minor": 0,
              "model_id": "c0f032e5a0b2498fb5a615391f2fc2bd"
            }
          },
          "metadata": {}
        }
      ]
    },
    {
      "cell_type": "code",
      "source": [
        "test['predict'] = predict"
      ],
      "metadata": {
        "id": "as1FV2dnw8Ai"
      },
      "execution_count": 195,
      "outputs": []
    },
    {
      "cell_type": "code",
      "source": [
        "# 모델 평가\n",
        "rmse = np.sqrt(mean_squared_error(test['rating'], test['predict']))\n",
        "rmse"
      ],
      "metadata": {
        "colab": {
          "base_uri": "https://localhost:8080/"
        },
        "id": "h7LaT__vzjlq",
        "outputId": "aa897750-e96d-4660-b000-abf23d6b0e34"
      },
      "execution_count": 196,
      "outputs": [
        {
          "output_type": "execute_result",
          "data": {
            "text/plain": [
              "0.9738286664865335"
            ]
          },
          "metadata": {},
          "execution_count": 196
        }
      ]
    },
    {
      "cell_type": "markdown",
      "source": [
        "# 오버피팅 (Overfitting)\n",
        "## 문제는? \n",
        "왜 오히려 CB v1보다, v2 샘플 유저의 경우보다 rmse가 크게 나올까?<br>\n",
        "- 각 유저별로 데이터 갯수가 동일하지 않음\n",
        "- Overfitting 발생\n",
        "  - 데이터 갯수가 작은 user에게 coefficient 계산이 정확하지 않음, 또는 train 데이터만 설명할 수 있음\n",
        "  - train 데이터에 대해서는 정확하게 맞출 수 있지만, 새로운 데이터 (test 데이터)에 대한 예측은 사실상 신뢰하기 어렵다.\n",
        "\n",
        "\n",
        "## 해결책은?\n",
        "- (스스로 해보기) 빈도수가 낮은 장르 없애기\n",
        "- (스스로 해보기) correlation이 높은 장르들을 합치기\n",
        "  - 자주 같이 등장하는 장르를 합침으로써 장르의 가짓수 줄이기\n",
        "- (스스로 해보기) 데이터가 적은 user에 대해서 전체 평균, user별 평균, content based 1번 방법론 사용 등 다른 방법을 섞어서 풀기 (앙상블)\n",
        "- 정규화가 가능한 linear model 사용하기 (Ridge, Lasso 등)"
      ],
      "metadata": {
        "id": "4WDMUTI97STQ"
      }
    },
    {
      "cell_type": "markdown",
      "source": [
        "# Lasso 모델 적용"
      ],
      "metadata": {
        "id": "rVShjo3aHcxw"
      }
    },
    {
      "cell_type": "code",
      "source": [
        "from sklearn.linear_model import Lasso"
      ],
      "metadata": {
        "id": "JaH3Ry7_8eCV"
      },
      "execution_count": 197,
      "outputs": []
    },
    {
      "cell_type": "code",
      "source": [
        "model = Lasso()\n",
        "model\n",
        "# 중요한 옵션 alpha\n",
        "# defalut aplha 1.0은 굉장히 큰 값이고, 일단 적절한 alpha의 값을 찾아 제공함\n",
        "# 한 사람 한 사람 마다 최적의 alpha는 다를 수 있다. "
      ],
      "metadata": {
        "colab": {
          "base_uri": "https://localhost:8080/",
          "height": 74
        },
        "id": "7d9ggScWJyXD",
        "outputId": "b1f41bd4-a6de-463c-912c-b51a78360fa4"
      },
      "execution_count": 198,
      "outputs": [
        {
          "output_type": "execute_result",
          "data": {
            "text/plain": [
              "Lasso()"
            ],
            "text/html": [
              "<style>#sk-container-id-5 {color: black;background-color: white;}#sk-container-id-5 pre{padding: 0;}#sk-container-id-5 div.sk-toggleable {background-color: white;}#sk-container-id-5 label.sk-toggleable__label {cursor: pointer;display: block;width: 100%;margin-bottom: 0;padding: 0.3em;box-sizing: border-box;text-align: center;}#sk-container-id-5 label.sk-toggleable__label-arrow:before {content: \"▸\";float: left;margin-right: 0.25em;color: #696969;}#sk-container-id-5 label.sk-toggleable__label-arrow:hover:before {color: black;}#sk-container-id-5 div.sk-estimator:hover label.sk-toggleable__label-arrow:before {color: black;}#sk-container-id-5 div.sk-toggleable__content {max-height: 0;max-width: 0;overflow: hidden;text-align: left;background-color: #f0f8ff;}#sk-container-id-5 div.sk-toggleable__content pre {margin: 0.2em;color: black;border-radius: 0.25em;background-color: #f0f8ff;}#sk-container-id-5 input.sk-toggleable__control:checked~div.sk-toggleable__content {max-height: 200px;max-width: 100%;overflow: auto;}#sk-container-id-5 input.sk-toggleable__control:checked~label.sk-toggleable__label-arrow:before {content: \"▾\";}#sk-container-id-5 div.sk-estimator input.sk-toggleable__control:checked~label.sk-toggleable__label {background-color: #d4ebff;}#sk-container-id-5 div.sk-label input.sk-toggleable__control:checked~label.sk-toggleable__label {background-color: #d4ebff;}#sk-container-id-5 input.sk-hidden--visually {border: 0;clip: rect(1px 1px 1px 1px);clip: rect(1px, 1px, 1px, 1px);height: 1px;margin: -1px;overflow: hidden;padding: 0;position: absolute;width: 1px;}#sk-container-id-5 div.sk-estimator {font-family: monospace;background-color: #f0f8ff;border: 1px dotted black;border-radius: 0.25em;box-sizing: border-box;margin-bottom: 0.5em;}#sk-container-id-5 div.sk-estimator:hover {background-color: #d4ebff;}#sk-container-id-5 div.sk-parallel-item::after {content: \"\";width: 100%;border-bottom: 1px solid gray;flex-grow: 1;}#sk-container-id-5 div.sk-label:hover label.sk-toggleable__label {background-color: #d4ebff;}#sk-container-id-5 div.sk-serial::before {content: \"\";position: absolute;border-left: 1px solid gray;box-sizing: border-box;top: 0;bottom: 0;left: 50%;z-index: 0;}#sk-container-id-5 div.sk-serial {display: flex;flex-direction: column;align-items: center;background-color: white;padding-right: 0.2em;padding-left: 0.2em;position: relative;}#sk-container-id-5 div.sk-item {position: relative;z-index: 1;}#sk-container-id-5 div.sk-parallel {display: flex;align-items: stretch;justify-content: center;background-color: white;position: relative;}#sk-container-id-5 div.sk-item::before, #sk-container-id-5 div.sk-parallel-item::before {content: \"\";position: absolute;border-left: 1px solid gray;box-sizing: border-box;top: 0;bottom: 0;left: 50%;z-index: -1;}#sk-container-id-5 div.sk-parallel-item {display: flex;flex-direction: column;z-index: 1;position: relative;background-color: white;}#sk-container-id-5 div.sk-parallel-item:first-child::after {align-self: flex-end;width: 50%;}#sk-container-id-5 div.sk-parallel-item:last-child::after {align-self: flex-start;width: 50%;}#sk-container-id-5 div.sk-parallel-item:only-child::after {width: 0;}#sk-container-id-5 div.sk-dashed-wrapped {border: 1px dashed gray;margin: 0 0.4em 0.5em 0.4em;box-sizing: border-box;padding-bottom: 0.4em;background-color: white;}#sk-container-id-5 div.sk-label label {font-family: monospace;font-weight: bold;display: inline-block;line-height: 1.2em;}#sk-container-id-5 div.sk-label-container {text-align: center;}#sk-container-id-5 div.sk-container {/* jupyter's `normalize.less` sets `[hidden] { display: none; }` but bootstrap.min.css set `[hidden] { display: none !important; }` so we also need the `!important` here to be able to override the default hidden behavior on the sphinx rendered scikit-learn.org. See: https://github.com/scikit-learn/scikit-learn/issues/21755 */display: inline-block !important;position: relative;}#sk-container-id-5 div.sk-text-repr-fallback {display: none;}</style><div id=\"sk-container-id-5\" class=\"sk-top-container\"><div class=\"sk-text-repr-fallback\"><pre>Lasso()</pre><b>In a Jupyter environment, please rerun this cell to show the HTML representation or trust the notebook. <br />On GitHub, the HTML representation is unable to render, please try loading this page with nbviewer.org.</b></div><div class=\"sk-container\" hidden><div class=\"sk-item\"><div class=\"sk-estimator sk-toggleable\"><input class=\"sk-toggleable__control sk-hidden--visually\" id=\"sk-estimator-id-5\" type=\"checkbox\" checked><label for=\"sk-estimator-id-5\" class=\"sk-toggleable__label sk-toggleable__label-arrow\">Lasso</label><div class=\"sk-toggleable__content\"><pre>Lasso()</pre></div></div></div></div></div>"
            ]
          },
          "metadata": {},
          "execution_count": 198
        }
      ]
    },
    {
      "cell_type": "markdown",
      "source": [
        "Lasso 모델 사용시 주의점\n",
        "- 중요한 옵션인 alpha의 값: 제약 조건의 비중을 조절함\n",
        "- defalut aplha 1.0은 굉장히 큰 값이고, 일단 수업에서는 적절한 alpha의 값을 미리 찾아 제공함\n",
        "- 각 유저마다 최적의 alpha는 다를 수 있지만, 보편적인 alpha 값을 사용함\n",
        "- 적정 alpha 값 관련한 추가 설명은 'Lasso 하이퍼파라미터 튜닝' 챕터에서."
      ],
      "metadata": {
        "id": "5EZYzTr7KexL"
      }
    },
    {
      "cell_type": "code",
      "source": [
        "# Lasso 모델을 기준으로 한 새로운 user profile 만들기\n",
        "user_profile_list = [] # 전체 유저 프로필 리스트\n",
        "\n",
        "for userId in train['userId'].unique():\n",
        "  user = train[train['userId'] == userId]\n",
        "  X_train = user[genres.columns] # feature, X\n",
        "  y_train = user['rating'] # label, y\n",
        "  \n",
        "  # 모델 학습\n",
        "  reg = Lasso(alpha=0.03)\n",
        "  reg.fit(X_train, y_train)\n",
        "\n",
        "  user_profile_list.append([reg.intercept_, *reg.coef_])"
      ],
      "metadata": {
        "id": "SRm6J67_JKFf"
      },
      "execution_count": 199,
      "outputs": []
    },
    {
      "cell_type": "code",
      "source": [
        "# 보기 쉽게끔 list -> 표\n",
        "user_profile_lasso = pd.DataFrame(user_profile_list,\n",
        "                           index=train['userId'].unique(), \n",
        "                           columns=['intercept', *genres.columns])\n",
        "user_profile_lasso\n",
        "# Linear Regression로 만든 유저 프로필과의 차이점\n",
        "# : 계수가 0인 장르가 굉장히 많다. 장르 계수가 0-> 특정 유저의 영화 평점을 예측하는 것에 이 장르 정보가 중요하지 않다 (feature selection)\n",
        "# 만약 계수가 0인 장르의 영화 평점을 예측하고자 한다면?\n",
        "# intercept(절편) 값 사용하고, 추가로 장르에 대한 선호도 외에 배우, 감독, 시나리오 주제 등의 다른 feature 발굴해 사용"
      ],
      "metadata": {
        "colab": {
          "base_uri": "https://localhost:8080/",
          "height": 517
        },
        "id": "q36NTdNcLFrT",
        "outputId": "31c93403-c60f-4024-b9b1-567bd9a3e633"
      },
      "execution_count": 200,
      "outputs": [
        {
          "output_type": "execute_result",
          "data": {
            "text/plain": [
              "     intercept  (no genres listed)    Action  Adventure  Animation  Children  \\\n",
              "249   3.668491            0.000000  0.000000   0.000000   0.000000 -0.000000   \n",
              "354   3.810307            0.000000 -0.000000  -0.215992  -0.000000 -0.000000   \n",
              "339   4.033959            0.000000 -0.181899  -0.009566   0.000000 -0.000000   \n",
              "448   2.806142           -0.000000 -0.040494   0.000000   0.000000  0.000000   \n",
              "610   3.640871            0.000000 -0.000000   0.000000   0.000000 -0.000000   \n",
              "..         ...                 ...       ...        ...        ...       ...   \n",
              "92    3.765437            0.000000 -0.395150   0.131851   0.000000  0.000000   \n",
              "37    4.617112            0.000000 -0.402123  -0.407970  -0.000000 -0.577408   \n",
              "547   3.784937            0.000000 -0.000000   0.000000   0.000000  0.000000   \n",
              "106   5.018952            0.000000 -0.000000  -0.292840  -0.000000 -0.522699   \n",
              "439   4.124369            0.000000 -0.220696   0.000000  -0.000000 -0.000000   \n",
              "\n",
              "       Comedy     Crime  Documentary     Drama  ...  Film-Noir    Horror  \\\n",
              "249 -0.047536  0.000000     0.000000  0.154998  ...   0.000000 -0.000000   \n",
              "354 -0.110240  0.075165     0.000000  0.000000  ...   0.000000 -0.000000   \n",
              "339 -0.000000  0.074328     0.000000  0.156590  ...   0.000000  0.000000   \n",
              "448  0.032694  0.000000     0.000000  0.085376  ...   0.000000 -0.000000   \n",
              "610  0.000000  0.000000     0.000000  0.189742  ...   0.000000 -0.000000   \n",
              "..        ...       ...          ...       ...  ...        ...       ...   \n",
              "92   0.359414 -0.000000     0.000000 -0.034477  ...   0.000000  0.000000   \n",
              "37   0.045529 -0.057728     0.000000 -0.131501  ...   0.000000  0.000000   \n",
              "547  0.907006 -0.210510    -0.218332  0.000000  ...   0.000000  0.000000   \n",
              "106  0.000000  0.000000     0.000000 -0.127032  ...   0.000000 -0.000000   \n",
              "439  0.078510  0.169910    -0.000000  0.592117  ...   0.000000  0.000000   \n",
              "\n",
              "         IMAX   Musical   Mystery   Romance    Sci-Fi  Thriller       War  \\\n",
              "249  0.000000  0.000000  0.000000 -0.000000  0.000000 -0.000000  0.000000   \n",
              "354 -0.171396 -0.000000  0.000000  0.000000 -0.000000  0.000000 -0.000000   \n",
              "339 -0.259780 -0.000000  0.000000  0.000000 -0.000000  0.075543  0.000000   \n",
              "448 -0.000000  0.000000 -0.000000 -0.000000 -0.020309 -0.000000  0.000000   \n",
              "610  0.000000  0.000000  0.000000 -0.000000  0.000000 -0.041762 -0.000000   \n",
              "..        ...       ...       ...       ...       ...       ...       ...   \n",
              "92   0.000000  0.157549  0.000000  0.095510 -0.000000 -0.000000  0.000000   \n",
              "37   0.352363 -0.000000  0.000000 -1.282549  0.000000 -0.000000  0.000000   \n",
              "547  0.000000 -0.026648  0.000000  0.816675  0.902218 -0.000000 -1.423274   \n",
              "106  0.000000  0.000000 -0.000000  0.000000 -0.955841 -0.000000  0.000000   \n",
              "439 -0.293518  0.000000  0.000000 -0.579335 -0.000000  0.000000  0.000000   \n",
              "\n",
              "      Western  \n",
              "249  0.000000  \n",
              "354 -0.000000  \n",
              "339  0.000000  \n",
              "448  0.000000  \n",
              "610  0.000000  \n",
              "..        ...  \n",
              "92   0.000000  \n",
              "37  -0.000000  \n",
              "547  0.000000  \n",
              "106  0.000000  \n",
              "439  0.000000  \n",
              "\n",
              "[612 rows x 21 columns]"
            ],
            "text/html": [
              "\n",
              "  <div id=\"df-52ea3bdb-66e0-4fdc-a484-5e9e959638b9\">\n",
              "    <div class=\"colab-df-container\">\n",
              "      <div>\n",
              "<style scoped>\n",
              "    .dataframe tbody tr th:only-of-type {\n",
              "        vertical-align: middle;\n",
              "    }\n",
              "\n",
              "    .dataframe tbody tr th {\n",
              "        vertical-align: top;\n",
              "    }\n",
              "\n",
              "    .dataframe thead th {\n",
              "        text-align: right;\n",
              "    }\n",
              "</style>\n",
              "<table border=\"1\" class=\"dataframe\">\n",
              "  <thead>\n",
              "    <tr style=\"text-align: right;\">\n",
              "      <th></th>\n",
              "      <th>intercept</th>\n",
              "      <th>(no genres listed)</th>\n",
              "      <th>Action</th>\n",
              "      <th>Adventure</th>\n",
              "      <th>Animation</th>\n",
              "      <th>Children</th>\n",
              "      <th>Comedy</th>\n",
              "      <th>Crime</th>\n",
              "      <th>Documentary</th>\n",
              "      <th>Drama</th>\n",
              "      <th>...</th>\n",
              "      <th>Film-Noir</th>\n",
              "      <th>Horror</th>\n",
              "      <th>IMAX</th>\n",
              "      <th>Musical</th>\n",
              "      <th>Mystery</th>\n",
              "      <th>Romance</th>\n",
              "      <th>Sci-Fi</th>\n",
              "      <th>Thriller</th>\n",
              "      <th>War</th>\n",
              "      <th>Western</th>\n",
              "    </tr>\n",
              "  </thead>\n",
              "  <tbody>\n",
              "    <tr>\n",
              "      <th>249</th>\n",
              "      <td>3.668491</td>\n",
              "      <td>0.000000</td>\n",
              "      <td>0.000000</td>\n",
              "      <td>0.000000</td>\n",
              "      <td>0.000000</td>\n",
              "      <td>-0.000000</td>\n",
              "      <td>-0.047536</td>\n",
              "      <td>0.000000</td>\n",
              "      <td>0.000000</td>\n",
              "      <td>0.154998</td>\n",
              "      <td>...</td>\n",
              "      <td>0.000000</td>\n",
              "      <td>-0.000000</td>\n",
              "      <td>0.000000</td>\n",
              "      <td>0.000000</td>\n",
              "      <td>0.000000</td>\n",
              "      <td>-0.000000</td>\n",
              "      <td>0.000000</td>\n",
              "      <td>-0.000000</td>\n",
              "      <td>0.000000</td>\n",
              "      <td>0.000000</td>\n",
              "    </tr>\n",
              "    <tr>\n",
              "      <th>354</th>\n",
              "      <td>3.810307</td>\n",
              "      <td>0.000000</td>\n",
              "      <td>-0.000000</td>\n",
              "      <td>-0.215992</td>\n",
              "      <td>-0.000000</td>\n",
              "      <td>-0.000000</td>\n",
              "      <td>-0.110240</td>\n",
              "      <td>0.075165</td>\n",
              "      <td>0.000000</td>\n",
              "      <td>0.000000</td>\n",
              "      <td>...</td>\n",
              "      <td>0.000000</td>\n",
              "      <td>-0.000000</td>\n",
              "      <td>-0.171396</td>\n",
              "      <td>-0.000000</td>\n",
              "      <td>0.000000</td>\n",
              "      <td>0.000000</td>\n",
              "      <td>-0.000000</td>\n",
              "      <td>0.000000</td>\n",
              "      <td>-0.000000</td>\n",
              "      <td>-0.000000</td>\n",
              "    </tr>\n",
              "    <tr>\n",
              "      <th>339</th>\n",
              "      <td>4.033959</td>\n",
              "      <td>0.000000</td>\n",
              "      <td>-0.181899</td>\n",
              "      <td>-0.009566</td>\n",
              "      <td>0.000000</td>\n",
              "      <td>-0.000000</td>\n",
              "      <td>-0.000000</td>\n",
              "      <td>0.074328</td>\n",
              "      <td>0.000000</td>\n",
              "      <td>0.156590</td>\n",
              "      <td>...</td>\n",
              "      <td>0.000000</td>\n",
              "      <td>0.000000</td>\n",
              "      <td>-0.259780</td>\n",
              "      <td>-0.000000</td>\n",
              "      <td>0.000000</td>\n",
              "      <td>0.000000</td>\n",
              "      <td>-0.000000</td>\n",
              "      <td>0.075543</td>\n",
              "      <td>0.000000</td>\n",
              "      <td>0.000000</td>\n",
              "    </tr>\n",
              "    <tr>\n",
              "      <th>448</th>\n",
              "      <td>2.806142</td>\n",
              "      <td>-0.000000</td>\n",
              "      <td>-0.040494</td>\n",
              "      <td>0.000000</td>\n",
              "      <td>0.000000</td>\n",
              "      <td>0.000000</td>\n",
              "      <td>0.032694</td>\n",
              "      <td>0.000000</td>\n",
              "      <td>0.000000</td>\n",
              "      <td>0.085376</td>\n",
              "      <td>...</td>\n",
              "      <td>0.000000</td>\n",
              "      <td>-0.000000</td>\n",
              "      <td>-0.000000</td>\n",
              "      <td>0.000000</td>\n",
              "      <td>-0.000000</td>\n",
              "      <td>-0.000000</td>\n",
              "      <td>-0.020309</td>\n",
              "      <td>-0.000000</td>\n",
              "      <td>0.000000</td>\n",
              "      <td>0.000000</td>\n",
              "    </tr>\n",
              "    <tr>\n",
              "      <th>610</th>\n",
              "      <td>3.640871</td>\n",
              "      <td>0.000000</td>\n",
              "      <td>-0.000000</td>\n",
              "      <td>0.000000</td>\n",
              "      <td>0.000000</td>\n",
              "      <td>-0.000000</td>\n",
              "      <td>0.000000</td>\n",
              "      <td>0.000000</td>\n",
              "      <td>0.000000</td>\n",
              "      <td>0.189742</td>\n",
              "      <td>...</td>\n",
              "      <td>0.000000</td>\n",
              "      <td>-0.000000</td>\n",
              "      <td>0.000000</td>\n",
              "      <td>0.000000</td>\n",
              "      <td>0.000000</td>\n",
              "      <td>-0.000000</td>\n",
              "      <td>0.000000</td>\n",
              "      <td>-0.041762</td>\n",
              "      <td>-0.000000</td>\n",
              "      <td>0.000000</td>\n",
              "    </tr>\n",
              "    <tr>\n",
              "      <th>...</th>\n",
              "      <td>...</td>\n",
              "      <td>...</td>\n",
              "      <td>...</td>\n",
              "      <td>...</td>\n",
              "      <td>...</td>\n",
              "      <td>...</td>\n",
              "      <td>...</td>\n",
              "      <td>...</td>\n",
              "      <td>...</td>\n",
              "      <td>...</td>\n",
              "      <td>...</td>\n",
              "      <td>...</td>\n",
              "      <td>...</td>\n",
              "      <td>...</td>\n",
              "      <td>...</td>\n",
              "      <td>...</td>\n",
              "      <td>...</td>\n",
              "      <td>...</td>\n",
              "      <td>...</td>\n",
              "      <td>...</td>\n",
              "      <td>...</td>\n",
              "    </tr>\n",
              "    <tr>\n",
              "      <th>92</th>\n",
              "      <td>3.765437</td>\n",
              "      <td>0.000000</td>\n",
              "      <td>-0.395150</td>\n",
              "      <td>0.131851</td>\n",
              "      <td>0.000000</td>\n",
              "      <td>0.000000</td>\n",
              "      <td>0.359414</td>\n",
              "      <td>-0.000000</td>\n",
              "      <td>0.000000</td>\n",
              "      <td>-0.034477</td>\n",
              "      <td>...</td>\n",
              "      <td>0.000000</td>\n",
              "      <td>0.000000</td>\n",
              "      <td>0.000000</td>\n",
              "      <td>0.157549</td>\n",
              "      <td>0.000000</td>\n",
              "      <td>0.095510</td>\n",
              "      <td>-0.000000</td>\n",
              "      <td>-0.000000</td>\n",
              "      <td>0.000000</td>\n",
              "      <td>0.000000</td>\n",
              "    </tr>\n",
              "    <tr>\n",
              "      <th>37</th>\n",
              "      <td>4.617112</td>\n",
              "      <td>0.000000</td>\n",
              "      <td>-0.402123</td>\n",
              "      <td>-0.407970</td>\n",
              "      <td>-0.000000</td>\n",
              "      <td>-0.577408</td>\n",
              "      <td>0.045529</td>\n",
              "      <td>-0.057728</td>\n",
              "      <td>0.000000</td>\n",
              "      <td>-0.131501</td>\n",
              "      <td>...</td>\n",
              "      <td>0.000000</td>\n",
              "      <td>0.000000</td>\n",
              "      <td>0.352363</td>\n",
              "      <td>-0.000000</td>\n",
              "      <td>0.000000</td>\n",
              "      <td>-1.282549</td>\n",
              "      <td>0.000000</td>\n",
              "      <td>-0.000000</td>\n",
              "      <td>0.000000</td>\n",
              "      <td>-0.000000</td>\n",
              "    </tr>\n",
              "    <tr>\n",
              "      <th>547</th>\n",
              "      <td>3.784937</td>\n",
              "      <td>0.000000</td>\n",
              "      <td>-0.000000</td>\n",
              "      <td>0.000000</td>\n",
              "      <td>0.000000</td>\n",
              "      <td>0.000000</td>\n",
              "      <td>0.907006</td>\n",
              "      <td>-0.210510</td>\n",
              "      <td>-0.218332</td>\n",
              "      <td>0.000000</td>\n",
              "      <td>...</td>\n",
              "      <td>0.000000</td>\n",
              "      <td>0.000000</td>\n",
              "      <td>0.000000</td>\n",
              "      <td>-0.026648</td>\n",
              "      <td>0.000000</td>\n",
              "      <td>0.816675</td>\n",
              "      <td>0.902218</td>\n",
              "      <td>-0.000000</td>\n",
              "      <td>-1.423274</td>\n",
              "      <td>0.000000</td>\n",
              "    </tr>\n",
              "    <tr>\n",
              "      <th>106</th>\n",
              "      <td>5.018952</td>\n",
              "      <td>0.000000</td>\n",
              "      <td>-0.000000</td>\n",
              "      <td>-0.292840</td>\n",
              "      <td>-0.000000</td>\n",
              "      <td>-0.522699</td>\n",
              "      <td>0.000000</td>\n",
              "      <td>0.000000</td>\n",
              "      <td>0.000000</td>\n",
              "      <td>-0.127032</td>\n",
              "      <td>...</td>\n",
              "      <td>0.000000</td>\n",
              "      <td>-0.000000</td>\n",
              "      <td>0.000000</td>\n",
              "      <td>0.000000</td>\n",
              "      <td>-0.000000</td>\n",
              "      <td>0.000000</td>\n",
              "      <td>-0.955841</td>\n",
              "      <td>-0.000000</td>\n",
              "      <td>0.000000</td>\n",
              "      <td>0.000000</td>\n",
              "    </tr>\n",
              "    <tr>\n",
              "      <th>439</th>\n",
              "      <td>4.124369</td>\n",
              "      <td>0.000000</td>\n",
              "      <td>-0.220696</td>\n",
              "      <td>0.000000</td>\n",
              "      <td>-0.000000</td>\n",
              "      <td>-0.000000</td>\n",
              "      <td>0.078510</td>\n",
              "      <td>0.169910</td>\n",
              "      <td>-0.000000</td>\n",
              "      <td>0.592117</td>\n",
              "      <td>...</td>\n",
              "      <td>0.000000</td>\n",
              "      <td>0.000000</td>\n",
              "      <td>-0.293518</td>\n",
              "      <td>0.000000</td>\n",
              "      <td>0.000000</td>\n",
              "      <td>-0.579335</td>\n",
              "      <td>-0.000000</td>\n",
              "      <td>0.000000</td>\n",
              "      <td>0.000000</td>\n",
              "      <td>0.000000</td>\n",
              "    </tr>\n",
              "  </tbody>\n",
              "</table>\n",
              "<p>612 rows × 21 columns</p>\n",
              "</div>\n",
              "      <button class=\"colab-df-convert\" onclick=\"convertToInteractive('df-52ea3bdb-66e0-4fdc-a484-5e9e959638b9')\"\n",
              "              title=\"Convert this dataframe to an interactive table.\"\n",
              "              style=\"display:none;\">\n",
              "        \n",
              "  <svg xmlns=\"http://www.w3.org/2000/svg\" height=\"24px\"viewBox=\"0 0 24 24\"\n",
              "       width=\"24px\">\n",
              "    <path d=\"M0 0h24v24H0V0z\" fill=\"none\"/>\n",
              "    <path d=\"M18.56 5.44l.94 2.06.94-2.06 2.06-.94-2.06-.94-.94-2.06-.94 2.06-2.06.94zm-11 1L8.5 8.5l.94-2.06 2.06-.94-2.06-.94L8.5 2.5l-.94 2.06-2.06.94zm10 10l.94 2.06.94-2.06 2.06-.94-2.06-.94-.94-2.06-.94 2.06-2.06.94z\"/><path d=\"M17.41 7.96l-1.37-1.37c-.4-.4-.92-.59-1.43-.59-.52 0-1.04.2-1.43.59L10.3 9.45l-7.72 7.72c-.78.78-.78 2.05 0 2.83L4 21.41c.39.39.9.59 1.41.59.51 0 1.02-.2 1.41-.59l7.78-7.78 2.81-2.81c.8-.78.8-2.07 0-2.86zM5.41 20L4 18.59l7.72-7.72 1.47 1.35L5.41 20z\"/>\n",
              "  </svg>\n",
              "      </button>\n",
              "      \n",
              "  <style>\n",
              "    .colab-df-container {\n",
              "      display:flex;\n",
              "      flex-wrap:wrap;\n",
              "      gap: 12px;\n",
              "    }\n",
              "\n",
              "    .colab-df-convert {\n",
              "      background-color: #E8F0FE;\n",
              "      border: none;\n",
              "      border-radius: 50%;\n",
              "      cursor: pointer;\n",
              "      display: none;\n",
              "      fill: #1967D2;\n",
              "      height: 32px;\n",
              "      padding: 0 0 0 0;\n",
              "      width: 32px;\n",
              "    }\n",
              "\n",
              "    .colab-df-convert:hover {\n",
              "      background-color: #E2EBFA;\n",
              "      box-shadow: 0px 1px 2px rgba(60, 64, 67, 0.3), 0px 1px 3px 1px rgba(60, 64, 67, 0.15);\n",
              "      fill: #174EA6;\n",
              "    }\n",
              "\n",
              "    [theme=dark] .colab-df-convert {\n",
              "      background-color: #3B4455;\n",
              "      fill: #D2E3FC;\n",
              "    }\n",
              "\n",
              "    [theme=dark] .colab-df-convert:hover {\n",
              "      background-color: #434B5C;\n",
              "      box-shadow: 0px 1px 3px 1px rgba(0, 0, 0, 0.15);\n",
              "      filter: drop-shadow(0px 1px 2px rgba(0, 0, 0, 0.3));\n",
              "      fill: #FFFFFF;\n",
              "    }\n",
              "  </style>\n",
              "\n",
              "      <script>\n",
              "        const buttonEl =\n",
              "          document.querySelector('#df-52ea3bdb-66e0-4fdc-a484-5e9e959638b9 button.colab-df-convert');\n",
              "        buttonEl.style.display =\n",
              "          google.colab.kernel.accessAllowed ? 'block' : 'none';\n",
              "\n",
              "        async function convertToInteractive(key) {\n",
              "          const element = document.querySelector('#df-52ea3bdb-66e0-4fdc-a484-5e9e959638b9');\n",
              "          const dataTable =\n",
              "            await google.colab.kernel.invokeFunction('convertToInteractive',\n",
              "                                                     [key], {});\n",
              "          if (!dataTable) return;\n",
              "\n",
              "          const docLinkHtml = 'Like what you see? Visit the ' +\n",
              "            '<a target=\"_blank\" href=https://colab.research.google.com/notebooks/data_table.ipynb>data table notebook</a>'\n",
              "            + ' to learn more about interactive tables.';\n",
              "          element.innerHTML = '';\n",
              "          dataTable['output_type'] = 'display_data';\n",
              "          await google.colab.output.renderOutput(dataTable, element);\n",
              "          const docLink = document.createElement('div');\n",
              "          docLink.innerHTML = docLinkHtml;\n",
              "          element.appendChild(docLink);\n",
              "        }\n",
              "      </script>\n",
              "    </div>\n",
              "  </div>\n",
              "  "
            ]
          },
          "metadata": {},
          "execution_count": 200
        }
      ]
    },
    {
      "cell_type": "code",
      "source": [
        "# 평점 예측하기\n",
        "predict = []\n",
        "\n",
        "for idx, row in tqdm_notebook(test.iterrows()):\n",
        "  user = row['userId'] # test row의 user\n",
        "  intercept = user_profile_lasso.loc[user, 'intercept'] #해당 user의 user_profile_lasso의 intercept\n",
        "  genre_score = sum(user_profile_lasso.loc[user, genres.columns] * row[genres.columns]) #해당 movie의 장르에서 비롯되는 예상 평점\n",
        "  expected_score = intercept + genre_score\n",
        "  predict.append(expected_score)"
      ],
      "metadata": {
        "colab": {
          "base_uri": "https://localhost:8080/",
          "height": 49,
          "referenced_widgets": [
            "5ac2ea87308f4ce2a41baf95bf6a6bd3",
            "f697074fa7ab4979a77b11bb04ed4d26",
            "97e80e2311164003bda872b749f7d04e",
            "bf9f367eee8b456db517294d4b8cdb98",
            "3b99d6268e874d55b5f20293b18b917a",
            "69cfbb817391409d81129cbcb5e23ab3",
            "c0e06baa1a6d4fb0ad7bb3f20ea95108",
            "8c5249a918334b428b6d22cb9288d16f",
            "5d5a5adf8ca144bc98bdc96d5045d303",
            "cd63ae4089aa4f2a9349692e1fc8f42c",
            "28c3f02204ba43df83f3331be89fc0fe"
          ]
        },
        "id": "bzP2h9vsM81N",
        "outputId": "6c626896-80d1-40fa-d904-0e63636eb12f"
      },
      "execution_count": 201,
      "outputs": [
        {
          "output_type": "display_data",
          "data": {
            "text/plain": [
              "0it [00:00, ?it/s]"
            ],
            "application/vnd.jupyter.widget-view+json": {
              "version_major": 2,
              "version_minor": 0,
              "model_id": "5ac2ea87308f4ce2a41baf95bf6a6bd3"
            }
          },
          "metadata": {}
        }
      ]
    },
    {
      "cell_type": "code",
      "source": [
        "test['predict_lasso'] = predict"
      ],
      "metadata": {
        "id": "47tCedgcNMPF"
      },
      "execution_count": 203,
      "outputs": []
    },
    {
      "cell_type": "code",
      "source": [
        "# 성능 평가하기\n",
        "rmse = np.sqrt(mean_squared_error(test['rating'], test['predict_lasso']))\n",
        "rmse\n",
        "# Linear Regression에 정규화를 하니 rmse가 약간 개선됨\n",
        "# 오버피팅 된 부분을 Lasso 모델로 개선하였다"
      ],
      "metadata": {
        "colab": {
          "base_uri": "https://localhost:8080/"
        },
        "id": "LfEniD-bNRKo",
        "outputId": "995306a1-1a1a-46e4-cb8d-5cd0bde3a92b"
      },
      "execution_count": 206,
      "outputs": [
        {
          "output_type": "execute_result",
          "data": {
            "text/plain": [
              "0.9198165941286558"
            ]
          },
          "metadata": {},
          "execution_count": 206
        }
      ]
    },
    {
      "cell_type": "markdown",
      "source": [
        "# 내 데이터 뜯어보기\n",
        "Linear Regression vs. with Regularization 비교"
      ],
      "metadata": {
        "id": "JSsiV4Q9NxGx"
      }
    }
  ]
}